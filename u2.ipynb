{
  "cells": [
    {
      "cell_type": "markdown",
      "metadata": {
        "id": "view-in-github",
        "colab_type": "text"
      },
      "source": [
        "<a href=\"https://colab.research.google.com/github/camoltoni/argentinaprograma4/blob/main/u2.ipynb\" target=\"_parent\"><img src=\"https://colab.research.google.com/assets/colab-badge.svg\" alt=\"Open In Colab\"/></a>"
      ]
    },
    {
      "cell_type": "code",
      "execution_count": null,
      "metadata": {
        "id": "5xUlvaERRhmV"
      },
      "outputs": [],
      "source": [
        "import numpy as np\n",
        "import pandas as pd"
      ]
    },
    {
      "cell_type": "code",
      "execution_count": null,
      "metadata": {
        "id": "S8h8dqNAM_YI"
      },
      "outputs": [],
      "source": [
        "#inicializa servicio SQL\n",
        "%load_ext sql\n",
        "#Genera una DB en memoria\n",
        "%sql sqlite://"
      ]
    },
    {
      "cell_type": "code",
      "execution_count": null,
      "metadata": {
        "colab": {
          "base_uri": "https://localhost:8080/"
        },
        "id": "yahVvMrPLTZn",
        "outputId": "e57feb0e-7217-4f15-b8bd-d1cbfab7cbf2"
      },
      "outputs": [
        {
          "name": "stdout",
          "output_type": "stream",
          "text": [
            " * sqlite://\n",
            "Done.\n"
          ]
        },
        {
          "data": {
            "text/plain": [
              "[]"
            ]
          },
          "execution_count": 16,
          "metadata": {},
          "output_type": "execute_result"
        }
      ],
      "source": [
        "#Cargamos datos de gapminder\n",
        "%%sql\n",
        "CREATE TABLE if not exists gapminder (\n",
        "    country text,\n",
        "    continent text,\n",
        "    year int,\n",
        "    lifeExp float,\n",
        "    pop int,\n",
        "    gdpPercap float\n",
        ");"
      ]
    },
    {
      "cell_type": "code",
      "execution_count": null,
      "metadata": {
        "colab": {
          "base_uri": "https://localhost:8080/",
          "height": 76
        },
        "id": "5piQAaK6M9N-",
        "outputId": "fcca9e51-b14b-4d69-9561-3bfc8f3a569c"
      },
      "outputs": [
        {
          "name": "stdout",
          "output_type": "stream",
          "text": [
            " * sqlite://\n",
            "Done.\n"
          ]
        },
        {
          "data": {
            "text/html": [
              "<table>\n",
              "    <thead>\n",
              "        <tr>\n",
              "            <th>country</th>\n",
              "            <th>continent</th>\n",
              "            <th>year</th>\n",
              "            <th>lifeExp</th>\n",
              "            <th>pop</th>\n",
              "            <th>gdpPercap</th>\n",
              "        </tr>\n",
              "    </thead>\n",
              "    <tbody>\n",
              "    </tbody>\n",
              "</table>"
            ],
            "text/plain": [
              "[]"
            ]
          },
          "execution_count": 17,
          "metadata": {},
          "output_type": "execute_result"
        }
      ],
      "source": [
        "%%sql\n",
        "SELECT *\n",
        "FROM gapminder"
      ]
    },
    {
      "cell_type": "code",
      "execution_count": null,
      "metadata": {
        "id": "OnTWSAWdUyvO"
      },
      "outputs": [],
      "source": [
        "# Cargamos datos de gapminder a un df\n",
        "path = 'https://raw.githubusercontent.com/IDSB-course/m2-sql/master/data/gapminder/gapminder.csv'\n",
        "gapminder_df = pd.read_csv(path)"
      ]
    },
    {
      "cell_type": "code",
      "execution_count": null,
      "metadata": {
        "id": "HzB-GnksZkkU"
      },
      "outputs": [],
      "source": [
        "# populamos la tabla\n",
        "for i in range(gapminder_df.shape[0]):\n",
        "  vals = gapminder_df.iloc[i].values\n",
        "  sql_query = f\"\"\"\n",
        "  INSERT INTO GAPMINDER VALUES('{vals[0]}','{vals[1]}',{vals[2]},{vals[3]},{vals[4]},{vals[5]})\n",
        "  \"\"\"\n",
        "  %sql {sql_query}"
      ]
    },
    {
      "cell_type": "code",
      "execution_count": null,
      "metadata": {
        "colab": {
          "base_uri": "https://localhost:8080/",
          "height": 97
        },
        "id": "V8lyGG-sNmSk",
        "outputId": "6357a272-a0d5-4648-92c5-6b9d2f67b7a5"
      },
      "outputs": [
        {
          "name": "stdout",
          "output_type": "stream",
          "text": [
            " * sqlite://\n",
            "Done.\n"
          ]
        },
        {
          "data": {
            "text/html": [
              "<table>\n",
              "    <thead>\n",
              "        <tr>\n",
              "            <th>sum(country)</th>\n",
              "        </tr>\n",
              "    </thead>\n",
              "    <tbody>\n",
              "        <tr>\n",
              "            <td>0.0</td>\n",
              "        </tr>\n",
              "    </tbody>\n",
              "</table>"
            ],
            "text/plain": [
              "[(0.0,)]"
            ]
          },
          "execution_count": 23,
          "metadata": {},
          "output_type": "execute_result"
        }
      ],
      "source": [
        "%%sql\n",
        "SELECT sum(country)\n",
        "FROM gapminder\n",
        "limit 5"
      ]
    },
    {
      "cell_type": "markdown",
      "metadata": {
        "id": "PSrYF-vscNlD"
      },
      "source": [
        "1. Identifique todos los países únicos y ordénelos por orden alfabético"
      ]
    },
    {
      "cell_type": "code",
      "execution_count": null,
      "metadata": {
        "id": "31hPvuoNMrmv"
      },
      "outputs": [],
      "source": [
        "%%sql\n",
        "SELECT distinct country\n",
        "FROM gapminder\n",
        "order by country desc\n",
        "\n"
      ]
    },
    {
      "cell_type": "markdown",
      "metadata": {
        "id": "zB8_yrsHdJHG"
      },
      "source": [
        "2. Cuántos registros hay por cada país de los anteriormente calculados?"
      ]
    },
    {
      "cell_type": "code",
      "execution_count": null,
      "metadata": {
        "id": "uz7BGC8qUrgO"
      },
      "outputs": [],
      "source": [
        "%%sql\n",
        "select country, count(*) q_registros\n",
        "from gapminder\n",
        "group by country\n"
      ]
    },
    {
      "cell_type": "markdown",
      "metadata": {
        "id": "kR_M-6jSeVly"
      },
      "source": [
        "3. Cuál es la máxima población registrada en cada país? ordenar países por máxima población de manera decendente"
      ]
    },
    {
      "cell_type": "code",
      "execution_count": null,
      "metadata": {
        "colab": {
          "background_save": true
        },
        "id": "GlP5fibvabZW",
        "outputId": "c0a177cb-f8d9-43b7-b21d-2370c38eb995"
      },
      "outputs": [
        {
          "name": "stdout",
          "output_type": "stream",
          "text": [
            " * sqlite://\n",
            "Done.\n"
          ]
        },
        {
          "data": {
            "text/html": [
              "<table>\n",
              "    <thead>\n",
              "        <tr>\n",
              "            <th>country</th>\n",
              "            <th>max_pop</th>\n",
              "        </tr>\n",
              "    </thead>\n",
              "    <tbody>\n",
              "        <tr>\n",
              "            <td>China</td>\n",
              "            <td>1318683096</td>\n",
              "        </tr>\n",
              "        <tr>\n",
              "            <td>India</td>\n",
              "            <td>1110396331</td>\n",
              "        </tr>\n",
              "        <tr>\n",
              "            <td>United States</td>\n",
              "            <td>301139947</td>\n",
              "        </tr>\n",
              "        <tr>\n",
              "            <td>Indonesia</td>\n",
              "            <td>223547000</td>\n",
              "        </tr>\n",
              "        <tr>\n",
              "            <td>Brazil</td>\n",
              "            <td>190010647</td>\n",
              "        </tr>\n",
              "        <tr>\n",
              "            <td>Pakistan</td>\n",
              "            <td>169270617</td>\n",
              "        </tr>\n",
              "        <tr>\n",
              "            <td>Bangladesh</td>\n",
              "            <td>150448339</td>\n",
              "        </tr>\n",
              "        <tr>\n",
              "            <td>Nigeria</td>\n",
              "            <td>135031164</td>\n",
              "        </tr>\n",
              "        <tr>\n",
              "            <td>Japan</td>\n",
              "            <td>127467972</td>\n",
              "        </tr>\n",
              "        <tr>\n",
              "            <td>Mexico</td>\n",
              "            <td>108700891</td>\n",
              "        </tr>\n",
              "        <tr>\n",
              "            <td>Philippines</td>\n",
              "            <td>91077287</td>\n",
              "        </tr>\n",
              "        <tr>\n",
              "            <td>Vietnam</td>\n",
              "            <td>85262356</td>\n",
              "        </tr>\n",
              "        <tr>\n",
              "            <td>Germany</td>\n",
              "            <td>82400996</td>\n",
              "        </tr>\n",
              "        <tr>\n",
              "            <td>Egypt</td>\n",
              "            <td>80264543</td>\n",
              "        </tr>\n",
              "        <tr>\n",
              "            <td>Ethiopia</td>\n",
              "            <td>76511887</td>\n",
              "        </tr>\n",
              "        <tr>\n",
              "            <td>Turkey</td>\n",
              "            <td>71158647</td>\n",
              "        </tr>\n",
              "        <tr>\n",
              "            <td>Iran</td>\n",
              "            <td>69453570</td>\n",
              "        </tr>\n",
              "        <tr>\n",
              "            <td>Thailand</td>\n",
              "            <td>65068149</td>\n",
              "        </tr>\n",
              "        <tr>\n",
              "            <td>Congo, Dem. Rep.</td>\n",
              "            <td>64606759</td>\n",
              "        </tr>\n",
              "        <tr>\n",
              "            <td>France</td>\n",
              "            <td>61083916</td>\n",
              "        </tr>\n",
              "        <tr>\n",
              "            <td>United Kingdom</td>\n",
              "            <td>60776238</td>\n",
              "        </tr>\n",
              "        <tr>\n",
              "            <td>Italy</td>\n",
              "            <td>58147733</td>\n",
              "        </tr>\n",
              "        <tr>\n",
              "            <td>Korea, Rep.</td>\n",
              "            <td>49044790</td>\n",
              "        </tr>\n",
              "        <tr>\n",
              "            <td>Myanmar</td>\n",
              "            <td>47761980</td>\n",
              "        </tr>\n",
              "        <tr>\n",
              "            <td>South Africa</td>\n",
              "            <td>44433622</td>\n",
              "        </tr>\n",
              "        <tr>\n",
              "            <td>Colombia</td>\n",
              "            <td>44227550</td>\n",
              "        </tr>\n",
              "        <tr>\n",
              "            <td>Sudan</td>\n",
              "            <td>42292929</td>\n",
              "        </tr>\n",
              "        <tr>\n",
              "            <td>Spain</td>\n",
              "            <td>40448191</td>\n",
              "        </tr>\n",
              "        <tr>\n",
              "            <td>Argentina</td>\n",
              "            <td>40301927</td>\n",
              "        </tr>\n",
              "        <tr>\n",
              "            <td>Poland</td>\n",
              "            <td>38654957</td>\n",
              "        </tr>\n",
              "        <tr>\n",
              "            <td>Tanzania</td>\n",
              "            <td>38139640</td>\n",
              "        </tr>\n",
              "        <tr>\n",
              "            <td>Kenya</td>\n",
              "            <td>35610177</td>\n",
              "        </tr>\n",
              "        <tr>\n",
              "            <td>Morocco</td>\n",
              "            <td>33757175</td>\n",
              "        </tr>\n",
              "        <tr>\n",
              "            <td>Canada</td>\n",
              "            <td>33390141</td>\n",
              "        </tr>\n",
              "        <tr>\n",
              "            <td>Algeria</td>\n",
              "            <td>33333216</td>\n",
              "        </tr>\n",
              "        <tr>\n",
              "            <td>Afghanistan</td>\n",
              "            <td>31889923</td>\n",
              "        </tr>\n",
              "        <tr>\n",
              "            <td>Uganda</td>\n",
              "            <td>29170398</td>\n",
              "        </tr>\n",
              "        <tr>\n",
              "            <td>Nepal</td>\n",
              "            <td>28901790</td>\n",
              "        </tr>\n",
              "        <tr>\n",
              "            <td>Peru</td>\n",
              "            <td>28674757</td>\n",
              "        </tr>\n",
              "        <tr>\n",
              "            <td>Saudi Arabia</td>\n",
              "            <td>27601038</td>\n",
              "        </tr>\n",
              "        <tr>\n",
              "            <td>Iraq</td>\n",
              "            <td>27499638</td>\n",
              "        </tr>\n",
              "        <tr>\n",
              "            <td>Venezuela</td>\n",
              "            <td>26084662</td>\n",
              "        </tr>\n",
              "        <tr>\n",
              "            <td>Malaysia</td>\n",
              "            <td>24821286</td>\n",
              "        </tr>\n",
              "        <tr>\n",
              "            <td>Korea, Dem. Rep.</td>\n",
              "            <td>23301725</td>\n",
              "        </tr>\n",
              "        <tr>\n",
              "            <td>Taiwan</td>\n",
              "            <td>23174294</td>\n",
              "        </tr>\n",
              "        <tr>\n",
              "            <td>Ghana</td>\n",
              "            <td>22873338</td>\n",
              "        </tr>\n",
              "        <tr>\n",
              "            <td>Romania</td>\n",
              "            <td>22797027</td>\n",
              "        </tr>\n",
              "        <tr>\n",
              "            <td>Yemen, Rep.</td>\n",
              "            <td>22211743</td>\n",
              "        </tr>\n",
              "        <tr>\n",
              "            <td>Australia</td>\n",
              "            <td>20434176</td>\n",
              "        </tr>\n",
              "        <tr>\n",
              "            <td>Sri Lanka</td>\n",
              "            <td>20378239</td>\n",
              "        </tr>\n",
              "        <tr>\n",
              "            <td>Mozambique</td>\n",
              "            <td>19951656</td>\n",
              "        </tr>\n",
              "        <tr>\n",
              "            <td>Syria</td>\n",
              "            <td>19314747</td>\n",
              "        </tr>\n",
              "        <tr>\n",
              "            <td>Madagascar</td>\n",
              "            <td>19167654</td>\n",
              "        </tr>\n",
              "        <tr>\n",
              "            <td>Cameroon</td>\n",
              "            <td>17696293</td>\n",
              "        </tr>\n",
              "        <tr>\n",
              "            <td>Netherlands</td>\n",
              "            <td>16570613</td>\n",
              "        </tr>\n",
              "        <tr>\n",
              "            <td>Chile</td>\n",
              "            <td>16284741</td>\n",
              "        </tr>\n",
              "        <tr>\n",
              "            <td>Burkina Faso</td>\n",
              "            <td>14326203</td>\n",
              "        </tr>\n",
              "        <tr>\n",
              "            <td>Cambodia</td>\n",
              "            <td>14131858</td>\n",
              "        </tr>\n",
              "        <tr>\n",
              "            <td>Ecuador</td>\n",
              "            <td>13755680</td>\n",
              "        </tr>\n",
              "        <tr>\n",
              "            <td>Malawi</td>\n",
              "            <td>13327079</td>\n",
              "        </tr>\n",
              "        <tr>\n",
              "            <td>Niger</td>\n",
              "            <td>12894865</td>\n",
              "        </tr>\n",
              "        <tr>\n",
              "            <td>Guatemala</td>\n",
              "            <td>12572928</td>\n",
              "        </tr>\n",
              "        <tr>\n",
              "            <td>Angola</td>\n",
              "            <td>12420476</td>\n",
              "        </tr>\n",
              "        <tr>\n",
              "            <td>Zimbabwe</td>\n",
              "            <td>12311143</td>\n",
              "        </tr>\n",
              "        <tr>\n",
              "            <td>Senegal</td>\n",
              "            <td>12267493</td>\n",
              "        </tr>\n",
              "        <tr>\n",
              "            <td>Mali</td>\n",
              "            <td>12031795</td>\n",
              "        </tr>\n",
              "        <tr>\n",
              "            <td>Zambia</td>\n",
              "            <td>11746035</td>\n",
              "        </tr>\n",
              "        <tr>\n",
              "            <td>Cuba</td>\n",
              "            <td>11416987</td>\n",
              "        </tr>\n",
              "        <tr>\n",
              "            <td>Greece</td>\n",
              "            <td>10706290</td>\n",
              "        </tr>\n",
              "        <tr>\n",
              "            <td>Hungary</td>\n",
              "            <td>10705535</td>\n",
              "        </tr>\n",
              "        <tr>\n",
              "            <td>Portugal</td>\n",
              "            <td>10642836</td>\n",
              "        </tr>\n",
              "        <tr>\n",
              "            <td>Belgium</td>\n",
              "            <td>10392226</td>\n",
              "        </tr>\n",
              "        <tr>\n",
              "            <td>Serbia</td>\n",
              "            <td>10336594</td>\n",
              "        </tr>\n",
              "        <tr>\n",
              "            <td>Czech Republic</td>\n",
              "            <td>10315702</td>\n",
              "        </tr>\n",
              "        <tr>\n",
              "            <td>Tunisia</td>\n",
              "            <td>10276158</td>\n",
              "        </tr>\n",
              "        <tr>\n",
              "            <td>Chad</td>\n",
              "            <td>10238807</td>\n",
              "        </tr>\n",
              "        <tr>\n",
              "            <td>Guinea</td>\n",
              "            <td>9947814</td>\n",
              "        </tr>\n",
              "        <tr>\n",
              "            <td>Dominican Republic</td>\n",
              "            <td>9319622</td>\n",
              "        </tr>\n",
              "        <tr>\n",
              "            <td>Bolivia</td>\n",
              "            <td>9119152</td>\n",
              "        </tr>\n",
              "        <tr>\n",
              "            <td>Somalia</td>\n",
              "            <td>9118773</td>\n",
              "        </tr>\n",
              "        <tr>\n",
              "            <td>Sweden</td>\n",
              "            <td>9031088</td>\n",
              "        </tr>\n",
              "        <tr>\n",
              "            <td>Bulgaria</td>\n",
              "            <td>8971958</td>\n",
              "        </tr>\n",
              "        <tr>\n",
              "            <td>Rwanda</td>\n",
              "            <td>8860588</td>\n",
              "        </tr>\n",
              "        <tr>\n",
              "            <td>Haiti</td>\n",
              "            <td>8502814</td>\n",
              "        </tr>\n",
              "        <tr>\n",
              "            <td>Burundi</td>\n",
              "            <td>8390505</td>\n",
              "        </tr>\n",
              "        <tr>\n",
              "            <td>Austria</td>\n",
              "            <td>8199783</td>\n",
              "        </tr>\n",
              "        <tr>\n",
              "            <td>Benin</td>\n",
              "            <td>8078314</td>\n",
              "        </tr>\n",
              "        <tr>\n",
              "            <td>Switzerland</td>\n",
              "            <td>7554661</td>\n",
              "        </tr>\n",
              "        <tr>\n",
              "            <td>Honduras</td>\n",
              "            <td>7483763</td>\n",
              "        </tr>\n",
              "        <tr>\n",
              "            <td>Hong Kong, China</td>\n",
              "            <td>6980412</td>\n",
              "        </tr>\n",
              "        <tr>\n",
              "            <td>El Salvador</td>\n",
              "            <td>6939688</td>\n",
              "        </tr>\n",
              "        <tr>\n",
              "            <td>Paraguay</td>\n",
              "            <td>6667147</td>\n",
              "        </tr>\n",
              "        <tr>\n",
              "            <td>Israel</td>\n",
              "            <td>6426679</td>\n",
              "        </tr>\n",
              "        <tr>\n",
              "            <td>Sierra Leone</td>\n",
              "            <td>6144562</td>\n",
              "        </tr>\n",
              "        <tr>\n",
              "            <td>Jordan</td>\n",
              "            <td>6053193</td>\n",
              "        </tr>\n",
              "        <tr>\n",
              "            <td>Libya</td>\n",
              "            <td>6036914</td>\n",
              "        </tr>\n",
              "        <tr>\n",
              "            <td>Togo</td>\n",
              "            <td>5701579</td>\n",
              "        </tr>\n",
              "        <tr>\n",
              "            <td>Nicaragua</td>\n",
              "            <td>5675356</td>\n",
              "        </tr>\n",
              "        <tr>\n",
              "            <td>Denmark</td>\n",
              "            <td>5468120</td>\n",
              "        </tr>\n",
              "        <tr>\n",
              "            <td>Slovak Republic</td>\n",
              "            <td>5447502</td>\n",
              "        </tr>\n",
              "        <tr>\n",
              "            <td>Finland</td>\n",
              "            <td>5238460</td>\n",
              "        </tr>\n",
              "        <tr>\n",
              "            <td>Eritrea</td>\n",
              "            <td>4906585</td>\n",
              "        </tr>\n",
              "        <tr>\n",
              "            <td>Norway</td>\n",
              "            <td>4627926</td>\n",
              "        </tr>\n",
              "        <tr>\n",
              "            <td>Singapore</td>\n",
              "            <td>4553009</td>\n",
              "        </tr>\n",
              "        <tr>\n",
              "            <td>Bosnia and Herzegovina</td>\n",
              "            <td>4552198</td>\n",
              "        </tr>\n",
              "        <tr>\n",
              "            <td>Croatia</td>\n",
              "            <td>4494013</td>\n",
              "        </tr>\n",
              "        <tr>\n",
              "            <td>Central African Republic</td>\n",
              "            <td>4369038</td>\n",
              "        </tr>\n",
              "        <tr>\n",
              "            <td>Costa Rica</td>\n",
              "            <td>4133884</td>\n",
              "        </tr>\n",
              "        <tr>\n",
              "            <td>New Zealand</td>\n",
              "            <td>4115771</td>\n",
              "        </tr>\n",
              "        <tr>\n",
              "            <td>Ireland</td>\n",
              "            <td>4109086</td>\n",
              "        </tr>\n",
              "        <tr>\n",
              "            <td>West Bank and Gaza</td>\n",
              "            <td>4018332</td>\n",
              "        </tr>\n",
              "        <tr>\n",
              "            <td>Puerto Rico</td>\n",
              "            <td>3942491</td>\n",
              "        </tr>\n",
              "        <tr>\n",
              "            <td>Lebanon</td>\n",
              "            <td>3921278</td>\n",
              "        </tr>\n",
              "        <tr>\n",
              "            <td>Congo, Rep.</td>\n",
              "            <td>3800610</td>\n",
              "        </tr>\n",
              "        <tr>\n",
              "            <td>Albania</td>\n",
              "            <td>3600523</td>\n",
              "        </tr>\n",
              "        <tr>\n",
              "            <td>Uruguay</td>\n",
              "            <td>3447496</td>\n",
              "        </tr>\n",
              "        <tr>\n",
              "            <td>Mauritania</td>\n",
              "            <td>3270065</td>\n",
              "        </tr>\n",
              "        <tr>\n",
              "            <td>Panama</td>\n",
              "            <td>3242173</td>\n",
              "        </tr>\n",
              "        <tr>\n",
              "            <td>Oman</td>\n",
              "            <td>3204897</td>\n",
              "        </tr>\n",
              "        <tr>\n",
              "            <td>Liberia</td>\n",
              "            <td>3193942</td>\n",
              "        </tr>\n",
              "        <tr>\n",
              "            <td>Mongolia</td>\n",
              "            <td>2874127</td>\n",
              "        </tr>\n",
              "        <tr>\n",
              "            <td>Jamaica</td>\n",
              "            <td>2780132</td>\n",
              "        </tr>\n",
              "        <tr>\n",
              "            <td>Kuwait</td>\n",
              "            <td>2505559</td>\n",
              "        </tr>\n",
              "        <tr>\n",
              "            <td>Namibia</td>\n",
              "            <td>2055080</td>\n",
              "        </tr>\n",
              "        <tr>\n",
              "            <td>Lesotho</td>\n",
              "            <td>2046772</td>\n",
              "        </tr>\n",
              "        <tr>\n",
              "            <td>Slovenia</td>\n",
              "            <td>2011612</td>\n",
              "        </tr>\n",
              "        <tr>\n",
              "            <td>Gambia</td>\n",
              "            <td>1688359</td>\n",
              "        </tr>\n",
              "        <tr>\n",
              "            <td>Botswana</td>\n",
              "            <td>1639131</td>\n",
              "        </tr>\n",
              "        <tr>\n",
              "            <td>Guinea-Bissau</td>\n",
              "            <td>1472041</td>\n",
              "        </tr>\n",
              "        <tr>\n",
              "            <td>Gabon</td>\n",
              "            <td>1454867</td>\n",
              "        </tr>\n",
              "        <tr>\n",
              "            <td>Mauritius</td>\n",
              "            <td>1250882</td>\n",
              "        </tr>\n",
              "        <tr>\n",
              "            <td>Trinidad and Tobago</td>\n",
              "            <td>1191336</td>\n",
              "        </tr>\n",
              "        <tr>\n",
              "            <td>Swaziland</td>\n",
              "            <td>1133066</td>\n",
              "        </tr>\n",
              "        <tr>\n",
              "            <td>Reunion</td>\n",
              "            <td>798094</td>\n",
              "        </tr>\n",
              "        <tr>\n",
              "            <td>Montenegro</td>\n",
              "            <td>720230</td>\n",
              "        </tr>\n",
              "        <tr>\n",
              "            <td>Comoros</td>\n",
              "            <td>710960</td>\n",
              "        </tr>\n",
              "        <tr>\n",
              "            <td>Bahrain</td>\n",
              "            <td>708573</td>\n",
              "        </tr>\n",
              "        <tr>\n",
              "            <td>Equatorial Guinea</td>\n",
              "            <td>551201</td>\n",
              "        </tr>\n",
              "        <tr>\n",
              "            <td>Djibouti</td>\n",
              "            <td>496374</td>\n",
              "        </tr>\n",
              "        <tr>\n",
              "            <td>Iceland</td>\n",
              "            <td>301931</td>\n",
              "        </tr>\n",
              "        <tr>\n",
              "            <td>Sao Tome and Principe</td>\n",
              "            <td>199579</td>\n",
              "        </tr>\n",
              "    </tbody>\n",
              "</table>"
            ],
            "text/plain": [
              "[('China', 1318683096),\n",
              " ('India', 1110396331),\n",
              " ('United States', 301139947),\n",
              " ('Indonesia', 223547000),\n",
              " ('Brazil', 190010647),\n",
              " ('Pakistan', 169270617),\n",
              " ('Bangladesh', 150448339),\n",
              " ('Nigeria', 135031164),\n",
              " ('Japan', 127467972),\n",
              " ('Mexico', 108700891),\n",
              " ('Philippines', 91077287),\n",
              " ('Vietnam', 85262356),\n",
              " ('Germany', 82400996),\n",
              " ('Egypt', 80264543),\n",
              " ('Ethiopia', 76511887),\n",
              " ('Turkey', 71158647),\n",
              " ('Iran', 69453570),\n",
              " ('Thailand', 65068149),\n",
              " ('Congo, Dem. Rep.', 64606759),\n",
              " ('France', 61083916),\n",
              " ('United Kingdom', 60776238),\n",
              " ('Italy', 58147733),\n",
              " ('Korea, Rep.', 49044790),\n",
              " ('Myanmar', 47761980),\n",
              " ('South Africa', 44433622),\n",
              " ('Colombia', 44227550),\n",
              " ('Sudan', 42292929),\n",
              " ('Spain', 40448191),\n",
              " ('Argentina', 40301927),\n",
              " ('Poland', 38654957),\n",
              " ('Tanzania', 38139640),\n",
              " ('Kenya', 35610177),\n",
              " ('Morocco', 33757175),\n",
              " ('Canada', 33390141),\n",
              " ('Algeria', 33333216),\n",
              " ('Afghanistan', 31889923),\n",
              " ('Uganda', 29170398),\n",
              " ('Nepal', 28901790),\n",
              " ('Peru', 28674757),\n",
              " ('Saudi Arabia', 27601038),\n",
              " ('Iraq', 27499638),\n",
              " ('Venezuela', 26084662),\n",
              " ('Malaysia', 24821286),\n",
              " ('Korea, Dem. Rep.', 23301725),\n",
              " ('Taiwan', 23174294),\n",
              " ('Ghana', 22873338),\n",
              " ('Romania', 22797027),\n",
              " ('Yemen, Rep.', 22211743),\n",
              " ('Australia', 20434176),\n",
              " ('Sri Lanka', 20378239),\n",
              " ('Mozambique', 19951656),\n",
              " ('Syria', 19314747),\n",
              " ('Madagascar', 19167654),\n",
              " ('Cameroon', 17696293),\n",
              " ('Netherlands', 16570613),\n",
              " ('Chile', 16284741),\n",
              " ('Burkina Faso', 14326203),\n",
              " ('Cambodia', 14131858),\n",
              " ('Ecuador', 13755680),\n",
              " ('Malawi', 13327079),\n",
              " ('Niger', 12894865),\n",
              " ('Guatemala', 12572928),\n",
              " ('Angola', 12420476),\n",
              " ('Zimbabwe', 12311143),\n",
              " ('Senegal', 12267493),\n",
              " ('Mali', 12031795),\n",
              " ('Zambia', 11746035),\n",
              " ('Cuba', 11416987),\n",
              " ('Greece', 10706290),\n",
              " ('Hungary', 10705535),\n",
              " ('Portugal', 10642836),\n",
              " ('Belgium', 10392226),\n",
              " ('Serbia', 10336594),\n",
              " ('Czech Republic', 10315702),\n",
              " ('Tunisia', 10276158),\n",
              " ('Chad', 10238807),\n",
              " ('Guinea', 9947814),\n",
              " ('Dominican Republic', 9319622),\n",
              " ('Bolivia', 9119152),\n",
              " ('Somalia', 9118773),\n",
              " ('Sweden', 9031088),\n",
              " ('Bulgaria', 8971958),\n",
              " ('Rwanda', 8860588),\n",
              " ('Haiti', 8502814),\n",
              " ('Burundi', 8390505),\n",
              " ('Austria', 8199783),\n",
              " ('Benin', 8078314),\n",
              " ('Switzerland', 7554661),\n",
              " ('Honduras', 7483763),\n",
              " ('Hong Kong, China', 6980412),\n",
              " ('El Salvador', 6939688),\n",
              " ('Paraguay', 6667147),\n",
              " ('Israel', 6426679),\n",
              " ('Sierra Leone', 6144562),\n",
              " ('Jordan', 6053193),\n",
              " ('Libya', 6036914),\n",
              " ('Togo', 5701579),\n",
              " ('Nicaragua', 5675356),\n",
              " ('Denmark', 5468120),\n",
              " ('Slovak Republic', 5447502),\n",
              " ('Finland', 5238460),\n",
              " ('Eritrea', 4906585),\n",
              " ('Norway', 4627926),\n",
              " ('Singapore', 4553009),\n",
              " ('Bosnia and Herzegovina', 4552198),\n",
              " ('Croatia', 4494013),\n",
              " ('Central African Republic', 4369038),\n",
              " ('Costa Rica', 4133884),\n",
              " ('New Zealand', 4115771),\n",
              " ('Ireland', 4109086),\n",
              " ('West Bank and Gaza', 4018332),\n",
              " ('Puerto Rico', 3942491),\n",
              " ('Lebanon', 3921278),\n",
              " ('Congo, Rep.', 3800610),\n",
              " ('Albania', 3600523),\n",
              " ('Uruguay', 3447496),\n",
              " ('Mauritania', 3270065),\n",
              " ('Panama', 3242173),\n",
              " ('Oman', 3204897),\n",
              " ('Liberia', 3193942),\n",
              " ('Mongolia', 2874127),\n",
              " ('Jamaica', 2780132),\n",
              " ('Kuwait', 2505559),\n",
              " ('Namibia', 2055080),\n",
              " ('Lesotho', 2046772),\n",
              " ('Slovenia', 2011612),\n",
              " ('Gambia', 1688359),\n",
              " ('Botswana', 1639131),\n",
              " ('Guinea-Bissau', 1472041),\n",
              " ('Gabon', 1454867),\n",
              " ('Mauritius', 1250882),\n",
              " ('Trinidad and Tobago', 1191336),\n",
              " ('Swaziland', 1133066),\n",
              " ('Reunion', 798094),\n",
              " ('Montenegro', 720230),\n",
              " ('Comoros', 710960),\n",
              " ('Bahrain', 708573),\n",
              " ('Equatorial Guinea', 551201),\n",
              " ('Djibouti', 496374),\n",
              " ('Iceland', 301931),\n",
              " ('Sao Tome and Principe', 199579)]"
            ]
          },
          "execution_count": 33,
          "metadata": {},
          "output_type": "execute_result"
        }
      ],
      "source": [
        "%%sql\n",
        "select country, max(pop) as max_pop\n",
        "from gapminder\n",
        "group by country\n",
        "order by max(pop) desc"
      ]
    },
    {
      "cell_type": "markdown",
      "metadata": {
        "id": "MQGAaIX_fcM-"
      },
      "source": [
        "4. Para el último año disponible, cuántos países hay en cada continente?"
      ]
    },
    {
      "cell_type": "code",
      "execution_count": null,
      "metadata": {
        "colab": {
          "base_uri": "https://localhost:8080/"
        },
        "id": "5rBe-giuer5n",
        "outputId": "9600d340-fe77-4781-e019-fa79507d3fad"
      },
      "outputs": [
        {
          "name": "stderr",
          "output_type": "stream",
          "text": [
            "UsageError: Cell magic `%%sql` not found.\n"
          ]
        }
      ],
      "source": [
        "%%sql\n",
        "\n",
        "\n"
      ]
    },
    {
      "cell_type": "code",
      "execution_count": null,
      "metadata": {
        "colab": {
          "base_uri": "https://localhost:8080/"
        },
        "id": "r6XEnn6MQ5eE",
        "outputId": "aa694819-0490-426b-effe-2735bb9a73c2"
      },
      "outputs": [
        {
          "name": "stderr",
          "output_type": "stream",
          "text": [
            "UsageError: Cell magic `%%sql` not found.\n"
          ]
        }
      ],
      "source": [
        "%%sql\n"
      ]
    },
    {
      "cell_type": "markdown",
      "metadata": {
        "id": "cAdYUh0miT39"
      },
      "source": [
        "5. Cuáles son los 5 países que en promedio han tenido mayor esperanza de vida? (incluya la esperanza de vida promedio)"
      ]
    },
    {
      "cell_type": "code",
      "execution_count": null,
      "metadata": {
        "colab": {
          "base_uri": "https://localhost:8080/"
        },
        "id": "YqMeUf2wf21q",
        "outputId": "27cb2036-da42-4890-d5d5-1b986f1d4fa1"
      },
      "outputs": [
        {
          "name": "stdout",
          "output_type": "stream",
          "text": [
            " * sqlite://\n",
            "(sqlite3.OperationalError) near \"1\": syntax error\n",
            "[SQL: 1]\n",
            "(Background on this error at: https://sqlalche.me/e/20/e3q8)\n"
          ]
        }
      ],
      "source": []
    },
    {
      "cell_type": "markdown",
      "metadata": {
        "id": "c-BrZiH8jewQ"
      },
      "source": [
        "## Practiquemos juntos"
      ]
    },
    {
      "cell_type": "markdown",
      "metadata": {
        "id": "i3YOACKxl5E3"
      },
      "source": [
        "a. Cuál fue el PBI per cápita de ARG en 2002 y en 1997?"
      ]
    },
    {
      "cell_type": "code",
      "execution_count": null,
      "metadata": {
        "colab": {
          "base_uri": "https://localhost:8080/"
        },
        "id": "lx9ocm8llw1C",
        "outputId": "af561989-bf72-4a01-d2f4-0f70f80fb52c"
      },
      "outputs": [
        {
          "name": "stderr",
          "output_type": "stream",
          "text": [
            "UsageError: Cell magic `%%sql` not found.\n"
          ]
        }
      ],
      "source": [
        "%%sql\n",
        "\n",
        "\n"
      ]
    },
    {
      "cell_type": "markdown",
      "metadata": {
        "id": "sKT2vmnEjmDB"
      },
      "source": [
        "b. Cuántas filas tiene la tabla gapminder?"
      ]
    },
    {
      "cell_type": "code",
      "execution_count": null,
      "metadata": {
        "colab": {
          "base_uri": "https://localhost:8080/"
        },
        "id": "BshpMl-0ilmy",
        "outputId": "b28297b6-0273-4e02-b61c-81ffd09670d7"
      },
      "outputs": [
        {
          "name": "stderr",
          "output_type": "stream",
          "text": [
            "UsageError: Cell magic `%%sql` not found.\n"
          ]
        }
      ],
      "source": [
        "%%sql\n"
      ]
    },
    {
      "cell_type": "markdown",
      "metadata": {
        "id": "Q3nlEuLqj5Gj"
      },
      "source": [
        "c.Cuántos países empiezan con la letra A?"
      ]
    },
    {
      "cell_type": "code",
      "execution_count": null,
      "metadata": {
        "colab": {
          "base_uri": "https://localhost:8080/"
        },
        "id": "8U8SH7Ilj4gb",
        "outputId": "1d77787b-d5f1-4d98-b3db-35789eb168e4"
      },
      "outputs": [
        {
          "name": "stderr",
          "output_type": "stream",
          "text": [
            "UsageError: Cell magic `%%sql` not found.\n"
          ]
        }
      ],
      "source": [
        "%%sql\n",
        "\n"
      ]
    },
    {
      "cell_type": "markdown",
      "metadata": {
        "id": "dNicJrCslW7c"
      },
      "source": [
        "d. Para el último año de datos disponible, son los países con mayor esperanza de vida los mismos que tienen mayores ingresos per cápita?"
      ]
    },
    {
      "cell_type": "code",
      "execution_count": null,
      "metadata": {
        "colab": {
          "base_uri": "https://localhost:8080/"
        },
        "id": "GuU9J1SxkSdD",
        "outputId": "1a0cdced-5371-4256-eab6-6abccba4af14"
      },
      "outputs": [
        {
          "name": "stderr",
          "output_type": "stream",
          "text": [
            "UsageError: Cell magic `%%sql` not found.\n"
          ]
        }
      ],
      "source": [
        "%%sql\n"
      ]
    },
    {
      "cell_type": "code",
      "execution_count": null,
      "metadata": {
        "colab": {
          "base_uri": "https://localhost:8080/"
        },
        "id": "Je-EoEqdn_cU",
        "outputId": "aac8f170-cad2-45aa-d0e9-99551901ae44"
      },
      "outputs": [
        {
          "name": "stderr",
          "output_type": "stream",
          "text": [
            "UsageError: Cell magic `%%sql` not found.\n"
          ]
        }
      ],
      "source": [
        "%%sql\n"
      ]
    },
    {
      "cell_type": "markdown",
      "metadata": {
        "id": "I7IxZVWSqDfK"
      },
      "source": [
        "# NYCflights"
      ]
    },
    {
      "cell_type": "markdown",
      "metadata": {
        "id": "p-bc2ZdYoCiG"
      },
      "source": []
    },
    {
      "cell_type": "code",
      "execution_count": null,
      "metadata": {
        "colab": {
          "base_uri": "https://localhost:8080/"
        },
        "id": "boGj6EN5qGdm",
        "outputId": "bad994f7-3f5e-44aa-e462-7fe8271463fc"
      },
      "outputs": [
        {
          "name": "stdout",
          "output_type": "stream",
          "text": [
            " * sqlite://\n",
            "Done.\n",
            "Done.\n",
            "Done.\n",
            "Done.\n",
            "Done.\n"
          ]
        },
        {
          "data": {
            "text/plain": [
              "[]"
            ]
          },
          "execution_count": 53,
          "metadata": {},
          "output_type": "execute_result"
        }
      ],
      "source": [
        "#importamos tablas de nycflights\n",
        "%%sql\n",
        "\n",
        "CREATE TABLE IF NOT EXISTS planes\n",
        "(\n",
        "  tailnum text,\n",
        "\tyear int,\n",
        "\ttype text,\n",
        "\tmanufacturer text,\n",
        "\tmodel text,\n",
        "\tengines int,\n",
        "  seats int,\n",
        "  speed int,\n",
        "  engine text\n",
        ");\n",
        "\n",
        "CREATE TABLE IF NOT EXISTS airlines\n",
        "(\n",
        "    carrier text,\n",
        "\tname text\n",
        ");\n",
        "\n",
        "\n",
        "CREATE TABLE IF NOT EXISTS airports\n",
        "(\n",
        "    faa text,\n",
        "\tname text,\n",
        "\tlat float,\n",
        "\tlon float,\n",
        "\talt float,\n",
        "\ttz int,\n",
        "\tdst text,\n",
        "\ttzone text\n",
        "\n",
        ");\n",
        "\n",
        "\n",
        "CREATE TABLE IF NOT EXISTS weather\n",
        "(\n",
        "\torigin text,\n",
        "\tyear int,\n",
        "\tmonth int,\n",
        "\tday int,\n",
        "\thour int,\n",
        "\ttemp float,\n",
        "\tdewp float,\n",
        "\thumid float,\n",
        "\twind_dir float,\n",
        "\twind_speed float,\n",
        "\twind_gust float,\n",
        "\tprecip float,\n",
        "\tpressure float,\n",
        "\tvisib float,\n",
        "\ttime_hour text\n",
        "\n",
        ");\n",
        "\n",
        "CREATE TABLE IF NOT EXISTS flights\n",
        "(\n",
        "\tyear int,\n",
        "\tmonth int,\n",
        "\tday int,\n",
        "\tdep_time int,\n",
        "\tsched_dep_time int,\n",
        "\tdep_delay float,\n",
        "\tarr_time int,\n",
        "\tsched_arr_time int,\n",
        "\tarr_delay float,\n",
        "\tcarrier text,\n",
        "\tflight int,\n",
        "\ttailnum text,\n",
        "\torigin text,\n",
        "\tdest text,\n",
        "\tair_time float,\n",
        "\tdistance float,\n",
        "\thour float,\n",
        "\tminute float,\n",
        "\ttime_hour text\n",
        ");"
      ]
    },
    {
      "cell_type": "code",
      "execution_count": null,
      "metadata": {
        "id": "zYtDgtOr_go8"
      },
      "outputs": [],
      "source": [
        "#populamos planes\n",
        "path = 'https://raw.githubusercontent.com/IDSB-course/m2-sql/master/data/nycflights/planes.csv'\n",
        "planes_df = pd.read_csv(path).replace(np.nan,0)\n",
        "\n",
        "for i in range(planes_df.shape[0]):\n",
        "  vals = planes_df.iloc[i].values\n",
        "  sql_query = f\"\"\"\n",
        "  INSERT INTO planes VALUES('{vals[0]}',{vals[1]},'{vals[2]}','{vals[3]}',\n",
        "  '{vals[4]}',{vals[5]},{vals[6]},{vals[7]},'{vals[8]}')\n",
        "  \"\"\"\n",
        "  %sql {sql_query}"
      ]
    },
    {
      "cell_type": "code",
      "execution_count": null,
      "metadata": {
        "id": "UfReoiPYC0D8"
      },
      "outputs": [],
      "source": [
        "#populamos airlines\n",
        "path = 'https://raw.githubusercontent.com/IDSB-course/m2-sql/master/data/nycflights/airlines.csv'\n",
        "airlines_df = pd.read_csv(path)\n",
        "\n",
        "for i in range(airlines_df.shape[0]):\n",
        "  vals = airlines_df.iloc[i].values\n",
        "  sql_query = f\"\"\"\n",
        "  INSERT INTO airlines VALUES('{vals[0]}','{vals[1]}')\n",
        "  \"\"\"\n",
        "  %sql {sql_query}"
      ]
    },
    {
      "cell_type": "code",
      "execution_count": null,
      "metadata": {
        "id": "VwXl-h9KDOkO"
      },
      "outputs": [],
      "source": [
        "#populamos airports\n",
        "path = 'https://raw.githubusercontent.com/IDSB-course/m2-sql/master/data/nycflights/airports.csv'\n",
        "airports_df = pd.read_csv(path)\n",
        "\n",
        "for i in range(airports_df.shape[0]):\n",
        "  vals = airports_df.iloc[i].values\n",
        "  sql_query = f\"\"\"\n",
        "  INSERT INTO airports VALUES('{vals[0]}','{vals[1]}',{vals[2]},{vals[3]},\n",
        "  {vals[4]},{vals[5]},'{vals[6]}','{vals[7]}')\n",
        "  \"\"\"\n",
        "  try:\n",
        "    %sql {sql_query}\n",
        "  except:\n",
        "    pass\n",
        "\n"
      ]
    },
    {
      "cell_type": "code",
      "execution_count": null,
      "metadata": {
        "id": "sHl49yvWIUXl"
      },
      "outputs": [],
      "source": [
        "#populamos weather\n",
        "path = 'https://raw.githubusercontent.com/IDSB-course/m2-sql/master/data/nycflights/weather.csv'\n",
        "weather_df = pd.read_csv(path).replace(np.nan,0)\n",
        "\n",
        "for i in range(weather_df.shape[0]):\n",
        "  vals = weather_df.iloc[i].values\n",
        "  sql_query = f\"\"\"\n",
        "  INSERT INTO weather VALUES('{vals[0]}',{vals[1]},{vals[2]},{vals[3]},\n",
        "  {vals[4]},{vals[5]},{vals[6]},{vals[7]},{vals[8]},\n",
        "  {vals[9]},{vals[10]},{vals[11]},{vals[12]},{vals[13]},'{vals[14]}')\n",
        "  \"\"\"\n",
        "  %sql {sql_query}"
      ]
    },
    {
      "cell_type": "code",
      "execution_count": null,
      "metadata": {
        "id": "pe1G-5dLKTYk"
      },
      "outputs": [],
      "source": [
        "#populamos flights\n",
        "path = 'https://raw.githubusercontent.com/IDSB-course/m2-sql/master/data/nycflights/flights.csv'\n",
        "flights_df = pd.read_csv(path).replace(np.nan,0)\n",
        "\n",
        "for i in range(30000):\n",
        "  vals = flights_df.iloc[i].values\n",
        "  sql_query = f\"\"\"\n",
        "  INSERT INTO flights VALUES({vals[0]},{vals[1]},{vals[2]},{vals[3]},\n",
        "  {vals[4]},{vals[5]},{vals[6]},{vals[7]},{vals[8]},\n",
        "  '{vals[9]}',{vals[10]},'{vals[11]}','{vals[12]}','{vals[13]}',{vals[14]},\n",
        "  {vals[15]},{vals[16]},{vals[17]},'{vals[18]}')\n",
        "  \"\"\"\n",
        "  %sql {sql_query}"
      ]
    },
    {
      "cell_type": "markdown",
      "metadata": {
        "id": "T_yFl3rWQgyz"
      },
      "source": [
        "## Más ejercicios"
      ]
    },
    {
      "cell_type": "markdown",
      "metadata": {
        "id": "gQHeoWZaQmfC"
      },
      "source": [
        "a. ¿Cuáles son todos los aviones producidos entre 1980 y 1990 por el fabricante BOEING?"
      ]
    },
    {
      "cell_type": "code",
      "execution_count": null,
      "metadata": {
        "colab": {
          "base_uri": "https://localhost:8080/"
        },
        "id": "iJ1-f9s3A0VM",
        "outputId": "ac484c94-7662-43b7-a41a-7a9972a16fb8"
      },
      "outputs": [
        {
          "name": "stderr",
          "output_type": "stream",
          "text": [
            "UsageError: Cell magic `%%sql` not found.\n"
          ]
        }
      ],
      "source": [
        "%%sql\n",
        "\n"
      ]
    },
    {
      "cell_type": "markdown",
      "metadata": {
        "id": "hBASVEDzRK7r"
      },
      "source": [
        "b. ¿Qué aerolíneas poseen el patrón ‘Air’ en sus nombres?"
      ]
    },
    {
      "cell_type": "code",
      "execution_count": null,
      "metadata": {
        "colab": {
          "base_uri": "https://localhost:8080/"
        },
        "id": "OZXrnlohPTsO",
        "outputId": "7fd76bd7-dd2d-45de-88e5-b0e3c08fed06"
      },
      "outputs": [
        {
          "name": "stderr",
          "output_type": "stream",
          "text": [
            "UsageError: Cell magic `%%sql` not found.\n"
          ]
        }
      ],
      "source": [
        "%%sql\n",
        "\n"
      ]
    },
    {
      "cell_type": "markdown",
      "metadata": {
        "id": "AKmcDBdQRt2X"
      },
      "source": [
        "c. ¿Qué aeropuertos se encuentran al sur del aeropuerto Miami Intl (MIA)?"
      ]
    },
    {
      "cell_type": "code",
      "execution_count": null,
      "metadata": {
        "colab": {
          "base_uri": "https://localhost:8080/"
        },
        "id": "5Z_-KgcgRoHK",
        "outputId": "a4fb3ce6-d132-4cbe-f853-cb023fb5f28f"
      },
      "outputs": [
        {
          "name": "stdout",
          "output_type": "stream",
          "text": [
            " * sqlite://\n",
            "(sqlite3.OperationalError) near \"1\": syntax error\n",
            "[SQL: 1]\n",
            "(Background on this error at: https://sqlalche.me/e/20/e3q8)\n"
          ]
        }
      ],
      "source": [
        "%%sql\n",
        "1"
      ]
    },
    {
      "cell_type": "markdown",
      "metadata": {
        "id": "H5tydRqQR-BG"
      },
      "source": [
        "d. ¿Cuáles son las 10 mayores precipitaciones registradas en la tabla  weather?"
      ]
    },
    {
      "cell_type": "code",
      "execution_count": null,
      "metadata": {
        "colab": {
          "base_uri": "https://localhost:8080/"
        },
        "id": "o7Odl-tfR6CC",
        "outputId": "9a710df5-46aa-465b-968a-9a6cd340591d"
      },
      "outputs": [
        {
          "name": "stdout",
          "output_type": "stream",
          "text": [
            " * sqlite://\n",
            "(sqlite3.OperationalError) near \"1\": syntax error\n",
            "[SQL: 1]\n",
            "(Background on this error at: https://sqlalche.me/e/20/e3q8)\n"
          ]
        }
      ],
      "source": [
        "%%sql\n",
        "1"
      ]
    },
    {
      "cell_type": "markdown",
      "metadata": {
        "id": "shZgiFJISTsX"
      },
      "source": [
        "e. ¿Qué vuelos han recorrido distancias menores a 90 millas o superiores a 4980 millas?"
      ]
    },
    {
      "cell_type": "code",
      "execution_count": null,
      "metadata": {
        "colab": {
          "base_uri": "https://localhost:8080/"
        },
        "id": "okvD40PsSPLC",
        "outputId": "18920731-df82-4090-9ff6-f7eaf06d3eb4"
      },
      "outputs": [
        {
          "name": "stdout",
          "output_type": "stream",
          "text": [
            " * sqlite://\n",
            "(sqlite3.OperationalError) near \"1\": syntax error\n",
            "[SQL: 1]\n",
            "(Background on this error at: https://sqlalche.me/e/20/e3q8)\n"
          ]
        }
      ],
      "source": [
        "%%sql\n",
        "1"
      ]
    },
    {
      "cell_type": "markdown",
      "metadata": {
        "id": "tTG6-NDxtLxe"
      },
      "source": [
        "## Volvemos con ejercicios más complejos"
      ]
    },
    {
      "cell_type": "markdown",
      "metadata": {
        "id": "d3EsyotztUcr"
      },
      "source": [
        "¿Cuáles fueron los 5 días del año 2013 en que se han registrado más vuelos? ¿Cuántos vuelos se registraron?"
      ]
    },
    {
      "cell_type": "code",
      "execution_count": null,
      "metadata": {
        "colab": {
          "base_uri": "https://localhost:8080/"
        },
        "id": "7ohvKRAESrBg",
        "outputId": "0a955cd5-d1bf-46bd-9e62-d0b407c853e6"
      },
      "outputs": [
        {
          "name": "stdout",
          "output_type": "stream",
          "text": [
            " * sqlite://\n",
            "(sqlite3.OperationalError) near \"1\": syntax error\n",
            "[SQL: 1]\n",
            "(Background on this error at: https://sqlalche.me/e/20/e3q8)\n"
          ]
        }
      ],
      "source": [
        "%%sql\n",
        "1"
      ]
    },
    {
      "cell_type": "markdown",
      "metadata": {
        "id": "WVKmi5AEt1cW"
      },
      "source": [
        "¿Cuántos aviones hay para cada combinación de tipo y motor?"
      ]
    },
    {
      "cell_type": "code",
      "execution_count": null,
      "metadata": {
        "colab": {
          "base_uri": "https://localhost:8080/"
        },
        "id": "OlcyuqcwtjrI",
        "outputId": "85c224c0-fc8b-4c07-fad5-6029e22e9258"
      },
      "outputs": [
        {
          "name": "stdout",
          "output_type": "stream",
          "text": [
            " * sqlite://\n",
            "(sqlite3.OperationalError) near \"1\": syntax error\n",
            "[SQL: 1]\n",
            "(Background on this error at: https://sqlalche.me/e/20/e3q8)\n"
          ]
        }
      ],
      "source": [
        "%%sql\n",
        "1"
      ]
    },
    {
      "cell_type": "markdown",
      "metadata": {
        "id": "vWLVmPwguAys"
      },
      "source": [
        "¿Cuál es la cantidad de aeropuertos que se encuentran a una altitud mayor a 1000 pies?"
      ]
    },
    {
      "cell_type": "code",
      "execution_count": null,
      "metadata": {
        "colab": {
          "base_uri": "https://localhost:8080/"
        },
        "id": "YApbDoDat8Nk",
        "outputId": "e064bcad-ba78-4c6a-95c8-29b5d698b168"
      },
      "outputs": [
        {
          "name": "stdout",
          "output_type": "stream",
          "text": [
            " * sqlite://\n",
            "(sqlite3.OperationalError) near \"1\": syntax error\n",
            "[SQL: 1]\n",
            "(Background on this error at: https://sqlalche.me/e/20/e3q8)\n"
          ]
        }
      ],
      "source": [
        "%%sql\n",
        "1\n"
      ]
    },
    {
      "cell_type": "markdown",
      "metadata": {
        "id": "L9NoFbGouSl5"
      },
      "source": [
        "¿Cuáles son las temperaturas máximas y mínimas para cada origen en cada mes?"
      ]
    },
    {
      "cell_type": "code",
      "execution_count": null,
      "metadata": {
        "colab": {
          "base_uri": "https://localhost:8080/"
        },
        "id": "E-XNbDR_uOFw",
        "outputId": "81c8a200-6fcc-4fdb-b7d4-dde865a59acd"
      },
      "outputs": [
        {
          "name": "stdout",
          "output_type": "stream",
          "text": [
            " * sqlite://\n",
            "(sqlite3.OperationalError) near \"1\": syntax error\n",
            "[SQL: 1]\n",
            "(Background on this error at: https://sqlalche.me/e/20/e3q8)\n"
          ]
        }
      ],
      "source": [
        "%%sql\n",
        "1"
      ]
    },
    {
      "cell_type": "markdown",
      "metadata": {
        "id": "lSkXfcFturj0"
      },
      "source": [
        "¿Cuál es el porcentaje de aeropuertos que poseen el patrón ‘Air’ en sus nombres?"
      ]
    },
    {
      "cell_type": "code",
      "execution_count": null,
      "metadata": {
        "colab": {
          "base_uri": "https://localhost:8080/"
        },
        "id": "-CxDgvAGuklE",
        "outputId": "5092dc35-13dc-4080-beb4-22f3bad631ae"
      },
      "outputs": [
        {
          "name": "stdout",
          "output_type": "stream",
          "text": [
            " * sqlite://\n",
            "(sqlite3.OperationalError) near \"1\": syntax error\n",
            "[SQL: 1]\n",
            "(Background on this error at: https://sqlalche.me/e/20/e3q8)\n"
          ]
        }
      ],
      "source": [
        "%%sql\n",
        "1"
      ]
    },
    {
      "cell_type": "markdown",
      "metadata": {
        "id": "fdykfshJvJak"
      },
      "source": [
        "## Sumemos joins"
      ]
    },
    {
      "cell_type": "markdown",
      "metadata": {
        "id": "JthXPKgcvPhM"
      },
      "source": [
        "¿Qué fabricante construye los aviones que en promedio recorren las mayores distancias?"
      ]
    },
    {
      "cell_type": "code",
      "execution_count": null,
      "metadata": {
        "colab": {
          "base_uri": "https://localhost:8080/"
        },
        "id": "sw8rWU_Mu0Zr",
        "outputId": "5430cdd7-cb2b-455a-e947-656bcea12a26"
      },
      "outputs": [
        {
          "name": "stdout",
          "output_type": "stream",
          "text": [
            " * sqlite://\n",
            "(sqlite3.OperationalError) near \"1\": syntax error\n",
            "[SQL: 1]\n",
            "(Background on this error at: https://sqlalche.me/e/20/e3q8)\n"
          ]
        }
      ],
      "source": [
        "%%sql\n",
        "1"
      ]
    },
    {
      "cell_type": "markdown",
      "metadata": {
        "id": "CVKI5BeEvmgS"
      },
      "source": [
        "¿Cuál es el retraso promedio al despegar cuando se registran precipitaciones  vs cuando no se registran?\n",
        "\n"
      ]
    },
    {
      "cell_type": "code",
      "execution_count": null,
      "metadata": {
        "colab": {
          "base_uri": "https://localhost:8080/",
          "height": 119
        },
        "id": "0Hv4CcyUvgB-",
        "outputId": "882ebe4e-af70-49f8-c8c0-a8f94547a063"
      },
      "outputs": [
        {
          "name": "stdout",
          "output_type": "stream",
          "text": [
            " * sqlite://\n",
            "Done.\n"
          ]
        },
        {
          "data": {
            "text/html": [
              "<table>\n",
              "    <thead>\n",
              "        <tr>\n",
              "            <th>precip_binary</th>\n",
              "            <th>mean_precip</th>\n",
              "        </tr>\n",
              "    </thead>\n",
              "    <tbody>\n",
              "        <tr>\n",
              "            <td>0</td>\n",
              "            <td>8.706977235143029</td>\n",
              "        </tr>\n",
              "        <tr>\n",
              "            <td>1</td>\n",
              "            <td>17.5396201702685</td>\n",
              "        </tr>\n",
              "    </tbody>\n",
              "</table>"
            ],
            "text/plain": [
              "[(0, 8.706977235143029), (1, 17.5396201702685)]"
            ]
          },
          "execution_count": 79,
          "metadata": {},
          "output_type": "execute_result"
        }
      ],
      "source": [
        "%%sql\n",
        "SELECT\n",
        " \tCASE WHEN t2.precip > 0 THEN 1 else 0 end as precip_binary,\n",
        "\tAVG(t1.dep_delay) as mean_precip\n",
        "FROM flights t1\n",
        "INNER JOIN weather t2 ON\n",
        "\tt1.time_hour = t2.time_hour AND t1.origin = t2.origin\n",
        "GROUP BY t2.precip >0;"
      ]
    },
    {
      "cell_type": "code",
      "execution_count": null,
      "metadata": {
        "id": "dTeEf79Jv3IZ"
      },
      "outputs": [],
      "source": []
    }
  ],
  "metadata": {
    "colab": {
      "provenance": [],
      "include_colab_link": true
    },
    "kernelspec": {
      "display_name": "Python 3",
      "name": "python3"
    },
    "language_info": {
      "name": "python"
    }
  },
  "nbformat": 4,
  "nbformat_minor": 0
}