{
  "nbformat": 4,
  "nbformat_minor": 0,
  "metadata": {
    "colab": {
      "provenance": [],
      "include_colab_link": true
    },
    "kernelspec": {
      "name": "python3",
      "display_name": "Python 3"
    },
    "language_info": {
      "name": "python"
    }
  },
  "cells": [
    {
      "cell_type": "markdown",
      "metadata": {
        "id": "view-in-github",
        "colab_type": "text"
      },
      "source": [
        "<a href=\"https://colab.research.google.com/github/camoltoni/argentinaprograma4/blob/main/14/u6_clase.ipynb\" target=\"_parent\"><img src=\"https://colab.research.google.com/assets/colab-badge.svg\" alt=\"Open In Colab\"/></a>"
      ]
    },
    {
      "cell_type": "code",
      "execution_count": null,
      "metadata": {
        "id": "o21LiGL5ogIy"
      },
      "outputs": [],
      "source": [
        "import pandas as pd\n",
        "import numpy as np"
      ]
    },
    {
      "cell_type": "markdown",
      "source": [
        "1. Escriba una sentencia if, else que imprima 'bajo' si un número está entre 0 y 5 (no inclusivo), 'medio' si el número se encuentra entre 5 y 8 (no inclusivo), alto si el número es 8, 9 o 10 y \"fuera de rango\" si no está incluído en las categorías definidas anteriormente  "
      ],
      "metadata": {
        "id": "Xd_r1ckce5al"
      }
    },
    {
      "cell_type": "code",
      "source": [
        "x=14\n",
        "\n",
        "if x<0 or x>10:\n",
        "  print('fuera de rango')\n",
        "else:\n",
        "  if x<5:\n",
        "    print('bajo')\n",
        "  else:\n",
        "    if x<8:\n",
        "      print('medio')\n",
        "    else:\n",
        "      print('alto')\n",
        "\n",
        "\n"
      ],
      "metadata": {
        "id": "qgEJKQ6uf-EF",
        "colab": {
          "base_uri": "https://localhost:8080/"
        },
        "outputId": "71928156-4f2d-45ea-fe05-690807b86c0f"
      },
      "execution_count": null,
      "outputs": [
        {
          "output_type": "stream",
          "name": "stdout",
          "text": [
            "fuera de rango\n"
          ]
        }
      ]
    },
    {
      "cell_type": "markdown",
      "source": [
        "2. reescriba la misma sentencia usando if, elif, else statements"
      ],
      "metadata": {
        "id": "L1LG25sfhUf_"
      }
    },
    {
      "cell_type": "code",
      "source": [
        "x=2\n",
        "\n",
        "if x<0 or x>10:\n",
        "  print('fuera de rango')\n",
        "elif x<5:\n",
        "  print('bajo')\n",
        "elif x<8:\n",
        "  print('medio')\n",
        "else:\n",
        "  print('alto')\n",
        "\n",
        "\n"
      ],
      "metadata": {
        "id": "45VisparhbOD",
        "colab": {
          "base_uri": "https://localhost:8080/"
        },
        "outputId": "3d0ae8ac-b866-402e-e6f6-5c51d38e37ee"
      },
      "execution_count": null,
      "outputs": [
        {
          "output_type": "stream",
          "name": "stdout",
          "text": [
            "bajo\n"
          ]
        }
      ]
    },
    {
      "cell_type": "markdown",
      "source": [
        "3. Defina una función que implemente el statement desarrollado en 2."
      ],
      "metadata": {
        "id": "cO67TQE6hqnw"
      }
    },
    {
      "cell_type": "code",
      "source": [
        "def my_funcion(x):\n",
        "  if x<0 or x>10:\n",
        "    res = 'fuera de rango'\n",
        "  elif x<5:\n",
        "    res = 'bajo'\n",
        "  elif x<8:\n",
        "    res = 'medio'\n",
        "  else:\n",
        "    res = 'alto'\n",
        "\n",
        "  print(res)"
      ],
      "metadata": {
        "id": "l-9ymd60hzzv"
      },
      "execution_count": null,
      "outputs": []
    },
    {
      "cell_type": "code",
      "source": [
        "my_funcion(10)"
      ],
      "metadata": {
        "id": "2h54qfDDiNtQ",
        "colab": {
          "base_uri": "https://localhost:8080/"
        },
        "outputId": "344780b0-e6e8-4eb8-f525-ad8aed4974f6"
      },
      "execution_count": null,
      "outputs": [
        {
          "output_type": "stream",
          "name": "stdout",
          "text": [
            "alto\n"
          ]
        }
      ]
    },
    {
      "cell_type": "markdown",
      "source": [
        "4. Cuál es el problema con el siguiente While loop? intente arreglarlo tal que en cada iteración, el valor asociado a la variable \"i\" aumente en 1"
      ],
      "metadata": {
        "id": "eROEaXKdXEde"
      }
    },
    {
      "cell_type": "code",
      "source": [
        "x=2\n",
        "while x<5:\n",
        "  x += 1\n",
        "  print(x)\n",
        "else:\n",
        "  print(f'fin de la ejecucion, x vale {x}')\n"
      ],
      "metadata": {
        "id": "AAqTPFcHomzR",
        "colab": {
          "base_uri": "https://localhost:8080/"
        },
        "outputId": "a1ae54c7-2555-470d-e042-0895e4eba319"
      },
      "execution_count": null,
      "outputs": [
        {
          "output_type": "stream",
          "name": "stdout",
          "text": [
            "3\n",
            "4\n",
            "5\n",
            "fin de la ejecucion, x vale 5\n"
          ]
        }
      ]
    },
    {
      "cell_type": "markdown",
      "source": [
        "5. Itere sobre una secuencia de iterables del 0 al 19 y, por cada iteración, aplique la función f(x) = (x+0.0001)**2, persista el valor en 'x' e imprima su valor"
      ],
      "metadata": {
        "id": "qJa8iToGkZdw"
      }
    },
    {
      "cell_type": "code",
      "source": [
        "x=1\n",
        "for i in range(20):\n",
        "  x = (x+0.0001)**2\n",
        "  print(x)\n",
        "\n"
      ],
      "metadata": {
        "colab": {
          "base_uri": "https://localhost:8080/"
        },
        "id": "Umn7_4UMmRjw",
        "outputId": "9949b363-5011-44d8-b4ce-bca21c987fad"
      },
      "execution_count": null,
      "outputs": [
        {
          "output_type": "stream",
          "name": "stdout",
          "text": [
            "1.00020001\n",
            "1.000600110006\n",
            "1.0014007101660205\n",
            "1.0030036724630433\n",
            "1.0062169777088446\n",
            "1.012673859625063\n",
            "1.025710890739847\n",
            "1.0522879835604781\n",
            "1.1075204679424893\n",
            "1.226823101005139\n",
            "1.5053402957800663\n",
            "2.2663504841583735\n",
            "5.1367977971417265\n",
            "26.38771897827952\n",
            "696.3169904304488\n",
            "484857.4904255257\n",
            "235086786118.71024\n",
            "5.526579700762426e+22\n",
            "3.0543083188879303e+45\n",
            "9.328799306828015e+90\n"
          ]
        }
      ]
    },
    {
      "cell_type": "code",
      "source": [],
      "metadata": {
        "id": "LS6xAtUdqwHE"
      },
      "execution_count": null,
      "outputs": []
    },
    {
      "cell_type": "markdown",
      "source": [
        "6. Piense una matriz como elementos ordenados por 2 coordenadas; filas y columnas.\n",
        "\n",
        "Use un nested for loop para imprimir los indices de cada uno de sus elementos para una matriz de 5x5\n",
        "\n",
        "![image.png](data:image/png;base64,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)"
      ],
      "metadata": {
        "id": "B3_gJc3Iow5-"
      }
    },
    {
      "cell_type": "code",
      "source": [
        "for i in range(1,6):\n",
        "  for j in range(1,6):\n",
        "    print(f'a{i}{j}')"
      ],
      "metadata": {
        "id": "mCqldQXXlOql",
        "colab": {
          "base_uri": "https://localhost:8080/"
        },
        "outputId": "aed1708a-447a-46b6-80cb-b5709807af7e"
      },
      "execution_count": null,
      "outputs": [
        {
          "output_type": "stream",
          "name": "stdout",
          "text": [
            "a11\n",
            "a12\n",
            "a13\n",
            "a14\n",
            "a15\n",
            "a21\n",
            "a22\n",
            "a23\n",
            "a24\n",
            "a25\n",
            "a31\n",
            "a32\n",
            "a33\n",
            "a34\n",
            "a35\n",
            "a41\n",
            "a42\n",
            "a43\n",
            "a44\n",
            "a45\n",
            "a51\n",
            "a52\n",
            "a53\n",
            "a54\n",
            "a55\n"
          ]
        }
      ]
    },
    {
      "cell_type": "markdown",
      "source": [
        "7. Tome los resultados del ejercicio anterior y represéntelos en un formato tabular (puede usar la función reshape de numpy)"
      ],
      "metadata": {
        "id": "VyU6plgmqOl6"
      }
    },
    {
      "cell_type": "code",
      "source": [
        "x=[]\n",
        "for i in range(1,6):\n",
        "  for j in range(1,6):\n",
        "    x.append(f\"a{i}{j}\")"
      ],
      "metadata": {
        "id": "qMQQkWFNqITn"
      },
      "execution_count": null,
      "outputs": []
    },
    {
      "cell_type": "code",
      "source": [
        "pd.DataFrame(np.reshape(x, (5,5)))"
      ],
      "metadata": {
        "colab": {
          "base_uri": "https://localhost:8080/",
          "height": 206
        },
        "id": "ZpRGYqUSpFhH",
        "outputId": "7bd1dcb3-fa3c-45df-ac59-86cc88d73db8"
      },
      "execution_count": null,
      "outputs": [
        {
          "output_type": "execute_result",
          "data": {
            "text/plain": [
              "     0    1    2    3    4\n",
              "0  a11  a12  a13  a14  a15\n",
              "1  a21  a22  a23  a24  a25\n",
              "2  a31  a32  a33  a34  a35\n",
              "3  a41  a42  a43  a44  a45\n",
              "4  a51  a52  a53  a54  a55"
            ],
            "text/html": [
              "\n",
              "  <div id=\"df-12c67da0-1bd9-486d-a2e7-1511e6d13213\" class=\"colab-df-container\">\n",
              "    <div>\n",
              "<style scoped>\n",
              "    .dataframe tbody tr th:only-of-type {\n",
              "        vertical-align: middle;\n",
              "    }\n",
              "\n",
              "    .dataframe tbody tr th {\n",
              "        vertical-align: top;\n",
              "    }\n",
              "\n",
              "    .dataframe thead th {\n",
              "        text-align: right;\n",
              "    }\n",
              "</style>\n",
              "<table border=\"1\" class=\"dataframe\">\n",
              "  <thead>\n",
              "    <tr style=\"text-align: right;\">\n",
              "      <th></th>\n",
              "      <th>0</th>\n",
              "      <th>1</th>\n",
              "      <th>2</th>\n",
              "      <th>3</th>\n",
              "      <th>4</th>\n",
              "    </tr>\n",
              "  </thead>\n",
              "  <tbody>\n",
              "    <tr>\n",
              "      <th>0</th>\n",
              "      <td>a11</td>\n",
              "      <td>a12</td>\n",
              "      <td>a13</td>\n",
              "      <td>a14</td>\n",
              "      <td>a15</td>\n",
              "    </tr>\n",
              "    <tr>\n",
              "      <th>1</th>\n",
              "      <td>a21</td>\n",
              "      <td>a22</td>\n",
              "      <td>a23</td>\n",
              "      <td>a24</td>\n",
              "      <td>a25</td>\n",
              "    </tr>\n",
              "    <tr>\n",
              "      <th>2</th>\n",
              "      <td>a31</td>\n",
              "      <td>a32</td>\n",
              "      <td>a33</td>\n",
              "      <td>a34</td>\n",
              "      <td>a35</td>\n",
              "    </tr>\n",
              "    <tr>\n",
              "      <th>3</th>\n",
              "      <td>a41</td>\n",
              "      <td>a42</td>\n",
              "      <td>a43</td>\n",
              "      <td>a44</td>\n",
              "      <td>a45</td>\n",
              "    </tr>\n",
              "    <tr>\n",
              "      <th>4</th>\n",
              "      <td>a51</td>\n",
              "      <td>a52</td>\n",
              "      <td>a53</td>\n",
              "      <td>a54</td>\n",
              "      <td>a55</td>\n",
              "    </tr>\n",
              "  </tbody>\n",
              "</table>\n",
              "</div>\n",
              "    <div class=\"colab-df-buttons\">\n",
              "\n",
              "  <div class=\"colab-df-container\">\n",
              "    <button class=\"colab-df-convert\" onclick=\"convertToInteractive('df-12c67da0-1bd9-486d-a2e7-1511e6d13213')\"\n",
              "            title=\"Convert this dataframe to an interactive table.\"\n",
              "            style=\"display:none;\">\n",
              "\n",
              "  <svg xmlns=\"http://www.w3.org/2000/svg\" height=\"24px\" viewBox=\"0 -960 960 960\">\n",
              "    <path d=\"M120-120v-720h720v720H120Zm60-500h600v-160H180v160Zm220 220h160v-160H400v160Zm0 220h160v-160H400v160ZM180-400h160v-160H180v160Zm440 0h160v-160H620v160ZM180-180h160v-160H180v160Zm440 0h160v-160H620v160Z\"/>\n",
              "  </svg>\n",
              "    </button>\n",
              "\n",
              "  <style>\n",
              "    .colab-df-container {\n",
              "      display:flex;\n",
              "      gap: 12px;\n",
              "    }\n",
              "\n",
              "    .colab-df-convert {\n",
              "      background-color: #E8F0FE;\n",
              "      border: none;\n",
              "      border-radius: 50%;\n",
              "      cursor: pointer;\n",
              "      display: none;\n",
              "      fill: #1967D2;\n",
              "      height: 32px;\n",
              "      padding: 0 0 0 0;\n",
              "      width: 32px;\n",
              "    }\n",
              "\n",
              "    .colab-df-convert:hover {\n",
              "      background-color: #E2EBFA;\n",
              "      box-shadow: 0px 1px 2px rgba(60, 64, 67, 0.3), 0px 1px 3px 1px rgba(60, 64, 67, 0.15);\n",
              "      fill: #174EA6;\n",
              "    }\n",
              "\n",
              "    .colab-df-buttons div {\n",
              "      margin-bottom: 4px;\n",
              "    }\n",
              "\n",
              "    [theme=dark] .colab-df-convert {\n",
              "      background-color: #3B4455;\n",
              "      fill: #D2E3FC;\n",
              "    }\n",
              "\n",
              "    [theme=dark] .colab-df-convert:hover {\n",
              "      background-color: #434B5C;\n",
              "      box-shadow: 0px 1px 3px 1px rgba(0, 0, 0, 0.15);\n",
              "      filter: drop-shadow(0px 1px 2px rgba(0, 0, 0, 0.3));\n",
              "      fill: #FFFFFF;\n",
              "    }\n",
              "  </style>\n",
              "\n",
              "    <script>\n",
              "      const buttonEl =\n",
              "        document.querySelector('#df-12c67da0-1bd9-486d-a2e7-1511e6d13213 button.colab-df-convert');\n",
              "      buttonEl.style.display =\n",
              "        google.colab.kernel.accessAllowed ? 'block' : 'none';\n",
              "\n",
              "      async function convertToInteractive(key) {\n",
              "        const element = document.querySelector('#df-12c67da0-1bd9-486d-a2e7-1511e6d13213');\n",
              "        const dataTable =\n",
              "          await google.colab.kernel.invokeFunction('convertToInteractive',\n",
              "                                                    [key], {});\n",
              "        if (!dataTable) return;\n",
              "\n",
              "        const docLinkHtml = 'Like what you see? Visit the ' +\n",
              "          '<a target=\"_blank\" href=https://colab.research.google.com/notebooks/data_table.ipynb>data table notebook</a>'\n",
              "          + ' to learn more about interactive tables.';\n",
              "        element.innerHTML = '';\n",
              "        dataTable['output_type'] = 'display_data';\n",
              "        await google.colab.output.renderOutput(dataTable, element);\n",
              "        const docLink = document.createElement('div');\n",
              "        docLink.innerHTML = docLinkHtml;\n",
              "        element.appendChild(docLink);\n",
              "      }\n",
              "    </script>\n",
              "  </div>\n",
              "\n",
              "\n",
              "<div id=\"df-80264a9f-fe4f-4dbd-a6f6-1528e74092d1\">\n",
              "  <button class=\"colab-df-quickchart\" onclick=\"quickchart('df-80264a9f-fe4f-4dbd-a6f6-1528e74092d1')\"\n",
              "            title=\"Suggest charts.\"\n",
              "            style=\"display:none;\">\n",
              "\n",
              "<svg xmlns=\"http://www.w3.org/2000/svg\" height=\"24px\"viewBox=\"0 0 24 24\"\n",
              "     width=\"24px\">\n",
              "    <g>\n",
              "        <path d=\"M19 3H5c-1.1 0-2 .9-2 2v14c0 1.1.9 2 2 2h14c1.1 0 2-.9 2-2V5c0-1.1-.9-2-2-2zM9 17H7v-7h2v7zm4 0h-2V7h2v10zm4 0h-2v-4h2v4z\"/>\n",
              "    </g>\n",
              "</svg>\n",
              "  </button>\n",
              "\n",
              "<style>\n",
              "  .colab-df-quickchart {\n",
              "      --bg-color: #E8F0FE;\n",
              "      --fill-color: #1967D2;\n",
              "      --hover-bg-color: #E2EBFA;\n",
              "      --hover-fill-color: #174EA6;\n",
              "      --disabled-fill-color: #AAA;\n",
              "      --disabled-bg-color: #DDD;\n",
              "  }\n",
              "\n",
              "  [theme=dark] .colab-df-quickchart {\n",
              "      --bg-color: #3B4455;\n",
              "      --fill-color: #D2E3FC;\n",
              "      --hover-bg-color: #434B5C;\n",
              "      --hover-fill-color: #FFFFFF;\n",
              "      --disabled-bg-color: #3B4455;\n",
              "      --disabled-fill-color: #666;\n",
              "  }\n",
              "\n",
              "  .colab-df-quickchart {\n",
              "    background-color: var(--bg-color);\n",
              "    border: none;\n",
              "    border-radius: 50%;\n",
              "    cursor: pointer;\n",
              "    display: none;\n",
              "    fill: var(--fill-color);\n",
              "    height: 32px;\n",
              "    padding: 0;\n",
              "    width: 32px;\n",
              "  }\n",
              "\n",
              "  .colab-df-quickchart:hover {\n",
              "    background-color: var(--hover-bg-color);\n",
              "    box-shadow: 0 1px 2px rgba(60, 64, 67, 0.3), 0 1px 3px 1px rgba(60, 64, 67, 0.15);\n",
              "    fill: var(--button-hover-fill-color);\n",
              "  }\n",
              "\n",
              "  .colab-df-quickchart-complete:disabled,\n",
              "  .colab-df-quickchart-complete:disabled:hover {\n",
              "    background-color: var(--disabled-bg-color);\n",
              "    fill: var(--disabled-fill-color);\n",
              "    box-shadow: none;\n",
              "  }\n",
              "\n",
              "  .colab-df-spinner {\n",
              "    border: 2px solid var(--fill-color);\n",
              "    border-color: transparent;\n",
              "    border-bottom-color: var(--fill-color);\n",
              "    animation:\n",
              "      spin 1s steps(1) infinite;\n",
              "  }\n",
              "\n",
              "  @keyframes spin {\n",
              "    0% {\n",
              "      border-color: transparent;\n",
              "      border-bottom-color: var(--fill-color);\n",
              "      border-left-color: var(--fill-color);\n",
              "    }\n",
              "    20% {\n",
              "      border-color: transparent;\n",
              "      border-left-color: var(--fill-color);\n",
              "      border-top-color: var(--fill-color);\n",
              "    }\n",
              "    30% {\n",
              "      border-color: transparent;\n",
              "      border-left-color: var(--fill-color);\n",
              "      border-top-color: var(--fill-color);\n",
              "      border-right-color: var(--fill-color);\n",
              "    }\n",
              "    40% {\n",
              "      border-color: transparent;\n",
              "      border-right-color: var(--fill-color);\n",
              "      border-top-color: var(--fill-color);\n",
              "    }\n",
              "    60% {\n",
              "      border-color: transparent;\n",
              "      border-right-color: var(--fill-color);\n",
              "    }\n",
              "    80% {\n",
              "      border-color: transparent;\n",
              "      border-right-color: var(--fill-color);\n",
              "      border-bottom-color: var(--fill-color);\n",
              "    }\n",
              "    90% {\n",
              "      border-color: transparent;\n",
              "      border-bottom-color: var(--fill-color);\n",
              "    }\n",
              "  }\n",
              "</style>\n",
              "\n",
              "  <script>\n",
              "    async function quickchart(key) {\n",
              "      const quickchartButtonEl =\n",
              "        document.querySelector('#' + key + ' button');\n",
              "      quickchartButtonEl.disabled = true;  // To prevent multiple clicks.\n",
              "      quickchartButtonEl.classList.add('colab-df-spinner');\n",
              "      try {\n",
              "        const charts = await google.colab.kernel.invokeFunction(\n",
              "            'suggestCharts', [key], {});\n",
              "      } catch (error) {\n",
              "        console.error('Error during call to suggestCharts:', error);\n",
              "      }\n",
              "      quickchartButtonEl.classList.remove('colab-df-spinner');\n",
              "      quickchartButtonEl.classList.add('colab-df-quickchart-complete');\n",
              "    }\n",
              "    (() => {\n",
              "      let quickchartButtonEl =\n",
              "        document.querySelector('#df-80264a9f-fe4f-4dbd-a6f6-1528e74092d1 button');\n",
              "      quickchartButtonEl.style.display =\n",
              "        google.colab.kernel.accessAllowed ? 'block' : 'none';\n",
              "    })();\n",
              "  </script>\n",
              "</div>\n",
              "    </div>\n",
              "  </div>\n"
            ]
          },
          "metadata": {},
          "execution_count": 18
        }
      ]
    },
    {
      "cell_type": "code",
      "source": [],
      "metadata": {
        "id": "8D7b67qPqenT"
      },
      "execution_count": null,
      "outputs": []
    },
    {
      "cell_type": "markdown",
      "source": [
        "8. Elabore una list comprehension , set comprehension y dict comprehension conservando los valores pares de my_list"
      ],
      "metadata": {
        "id": "XMJYyX3YtP34"
      }
    },
    {
      "cell_type": "code",
      "source": [
        "my_list = [1,1,2,3,3,4,4,5,6,6]"
      ],
      "metadata": {
        "id": "W_uQp8T9qfZ8"
      },
      "execution_count": null,
      "outputs": []
    },
    {
      "cell_type": "code",
      "source": [
        "{i:i for i in my_list if i%2 == 0}"
      ],
      "metadata": {
        "id": "2YWhr45q52yn",
        "colab": {
          "base_uri": "https://localhost:8080/"
        },
        "outputId": "f6ef0564-0764-43c3-c52b-bb328853f6f4"
      },
      "execution_count": null,
      "outputs": [
        {
          "output_type": "execute_result",
          "data": {
            "text/plain": [
              "{2: 2, 4: 4, 6: 6}"
            ]
          },
          "metadata": {},
          "execution_count": 23
        }
      ]
    },
    {
      "cell_type": "markdown",
      "source": [
        "9. use como keys del dict comprehension los indices originales de my_list"
      ],
      "metadata": {
        "id": "KAODCpqEuEHN"
      }
    },
    {
      "cell_type": "code",
      "source": [
        "{i:j for i,j in enumerate(my_list) if j%2 == 0}"
      ],
      "metadata": {
        "id": "5lRCNyxerBUb",
        "colab": {
          "base_uri": "https://localhost:8080/"
        },
        "outputId": "568de2df-d48e-43c8-c446-6e9081317749"
      },
      "execution_count": null,
      "outputs": [
        {
          "output_type": "execute_result",
          "data": {
            "text/plain": [
              "{2: 2, 5: 4, 6: 4, 8: 6, 9: 6}"
            ]
          },
          "metadata": {},
          "execution_count": 28
        }
      ]
    },
    {
      "cell_type": "markdown",
      "source": [
        "Resolvamos juntos"
      ],
      "metadata": {
        "id": "u5Ur5mSfu_8S"
      }
    },
    {
      "cell_type": "markdown",
      "source": [
        "1. utilice un if, elif, else flow control para determinar a partir de una probabilidad de lluvia 'x' si la probabilidad de lluvia es nula, baja, media o alta."
      ],
      "metadata": {
        "id": "vVT4M_zJvM3k"
      }
    },
    {
      "cell_type": "code",
      "source": [
        "def cat_lluvia(x):\n",
        "  if x<0 or x>1:\n",
        "    res = 'fuera de rango'\n",
        "  elif x == 0:\n",
        "    res = 'nula'\n",
        "  elif x<.2:\n",
        "    res = 'baja'\n",
        "  elif x<.6:\n",
        "    res = 'media'\n",
        "  else:\n",
        "    res = 'alta'\n",
        "\n",
        "  print(res)"
      ],
      "metadata": {
        "id": "bIJFHCYC54Qw"
      },
      "execution_count": null,
      "outputs": []
    },
    {
      "cell_type": "code",
      "source": [
        "cat_lluvia(1.2)"
      ],
      "metadata": {
        "id": "EzFcUTHci1W1",
        "colab": {
          "base_uri": "https://localhost:8080/"
        },
        "outputId": "bd6d117d-a07a-4736-864a-4c30d1670068"
      },
      "execution_count": null,
      "outputs": [
        {
          "output_type": "stream",
          "name": "stdout",
          "text": [
            "fuera de rango\n"
          ]
        }
      ]
    },
    {
      "cell_type": "markdown",
      "source": [
        "2. implemente un loop para a partir de un valor definido en 100 reducir ese valor unitariamente hasta llegar a 0"
      ],
      "metadata": {
        "id": "FKHUKcf7vtmX"
      }
    },
    {
      "cell_type": "code",
      "source": [
        "x=100\n",
        "\n",
        "while x > 0:\n",
        "  x -= 1\n",
        "  if x%10 ==0:\n",
        "    print(x)\n",
        "else:\n",
        "  print('ejecucion finalizada')"
      ],
      "metadata": {
        "id": "C_FdBrOGevBp",
        "colab": {
          "base_uri": "https://localhost:8080/"
        },
        "outputId": "5b6fee70-fa68-476d-e11a-50aabbcd682e"
      },
      "execution_count": null,
      "outputs": [
        {
          "output_type": "stream",
          "name": "stdout",
          "text": [
            "90\n",
            "80\n",
            "70\n",
            "60\n",
            "50\n",
            "40\n",
            "30\n",
            "20\n",
            "10\n",
            "0\n",
            "ejecucion finalizada\n"
          ]
        }
      ]
    },
    {
      "cell_type": "code",
      "source": [],
      "metadata": {
        "id": "Vo9-K6EMjpz-"
      },
      "execution_count": null,
      "outputs": []
    },
    {
      "cell_type": "markdown",
      "source": [
        "3. A partir de los datos de **Gapminder** use un set comprehension para extraer cada continente\n",
        "\n"
      ],
      "metadata": {
        "id": "7OC3EG112Mak"
      }
    },
    {
      "cell_type": "code",
      "source": [
        "# Cargamos datos de gapminder a un df\n",
        "import pandas as pd\n",
        "path = 'https://raw.githubusercontent.com/IDSB-course/m2-sql/master/data/gapminder/gapminder.csv'\n",
        "gapminder_df = pd.read_csv(path)"
      ],
      "metadata": {
        "id": "l8RyJMXT2LtY"
      },
      "execution_count": null,
      "outputs": []
    },
    {
      "cell_type": "code",
      "source": [
        "{continent for continent in gapminder_df.continent}"
      ],
      "metadata": {
        "id": "FfnYLJWCkEj2",
        "colab": {
          "base_uri": "https://localhost:8080/"
        },
        "outputId": "d43cfe20-cb9d-48f7-cc82-5a3e865dbd57"
      },
      "execution_count": null,
      "outputs": [
        {
          "output_type": "execute_result",
          "data": {
            "text/plain": [
              "{'Africa', 'Americas', 'Asia', 'Europe', 'Oceania'}"
            ]
          },
          "metadata": {},
          "execution_count": 40
        }
      ]
    },
    {
      "cell_type": "code",
      "source": [
        "gapminder_df.continent.unique()"
      ],
      "metadata": {
        "id": "_50Ei8YffNkC",
        "colab": {
          "base_uri": "https://localhost:8080/"
        },
        "outputId": "4c8ac91a-c728-442c-9d78-e166f2f974c4"
      },
      "execution_count": null,
      "outputs": [
        {
          "output_type": "execute_result",
          "data": {
            "text/plain": [
              "array(['Asia', 'Europe', 'Africa', 'Americas', 'Oceania'], dtype=object)"
            ]
          },
          "metadata": {},
          "execution_count": 46
        }
      ]
    },
    {
      "cell_type": "markdown",
      "source": [
        "4. Genere un dict comprehension que use como llave cada país y como valor el continente al cual pertenece (la función zip() puede resultar de utilidad)"
      ],
      "metadata": {
        "id": "gmz5zCom285S"
      }
    },
    {
      "cell_type": "code",
      "source": [
        "{pais:continente for pais, continente in zip(gapminder_df.country, gapminder_df.continent)}\n"
      ],
      "metadata": {
        "id": "WQRDJpl-zMP5",
        "colab": {
          "base_uri": "https://localhost:8080/"
        },
        "outputId": "acef94d3-5498-4252-907d-2959d2fb9ad6"
      },
      "execution_count": null,
      "outputs": [
        {
          "output_type": "execute_result",
          "data": {
            "text/plain": [
              "{'Afghanistan': 'Asia',\n",
              " 'Albania': 'Europe',\n",
              " 'Algeria': 'Africa',\n",
              " 'Angola': 'Africa',\n",
              " 'Argentina': 'Americas',\n",
              " 'Australia': 'Oceania',\n",
              " 'Austria': 'Europe',\n",
              " 'Bahrain': 'Asia',\n",
              " 'Bangladesh': 'Asia',\n",
              " 'Belgium': 'Europe',\n",
              " 'Benin': 'Africa',\n",
              " 'Bolivia': 'Americas',\n",
              " 'Bosnia and Herzegovina': 'Europe',\n",
              " 'Botswana': 'Africa',\n",
              " 'Brazil': 'Americas',\n",
              " 'Bulgaria': 'Europe',\n",
              " 'Burkina Faso': 'Africa',\n",
              " 'Burundi': 'Africa',\n",
              " 'Cambodia': 'Asia',\n",
              " 'Cameroon': 'Africa',\n",
              " 'Canada': 'Americas',\n",
              " 'Central African Republic': 'Africa',\n",
              " 'Chad': 'Africa',\n",
              " 'Chile': 'Americas',\n",
              " 'China': 'Asia',\n",
              " 'Colombia': 'Americas',\n",
              " 'Comoros': 'Africa',\n",
              " 'Congo, Dem. Rep.': 'Africa',\n",
              " 'Congo, Rep.': 'Africa',\n",
              " 'Costa Rica': 'Americas',\n",
              " \"Cote d'Ivoire\": 'Africa',\n",
              " 'Croatia': 'Europe',\n",
              " 'Cuba': 'Americas',\n",
              " 'Czech Republic': 'Europe',\n",
              " 'Denmark': 'Europe',\n",
              " 'Djibouti': 'Africa',\n",
              " 'Dominican Republic': 'Americas',\n",
              " 'Ecuador': 'Americas',\n",
              " 'Egypt': 'Africa',\n",
              " 'El Salvador': 'Americas',\n",
              " 'Equatorial Guinea': 'Africa',\n",
              " 'Eritrea': 'Africa',\n",
              " 'Ethiopia': 'Africa',\n",
              " 'Finland': 'Europe',\n",
              " 'France': 'Europe',\n",
              " 'Gabon': 'Africa',\n",
              " 'Gambia': 'Africa',\n",
              " 'Germany': 'Europe',\n",
              " 'Ghana': 'Africa',\n",
              " 'Greece': 'Europe',\n",
              " 'Guatemala': 'Americas',\n",
              " 'Guinea': 'Africa',\n",
              " 'Guinea-Bissau': 'Africa',\n",
              " 'Haiti': 'Americas',\n",
              " 'Honduras': 'Americas',\n",
              " 'Hong Kong, China': 'Asia',\n",
              " 'Hungary': 'Europe',\n",
              " 'Iceland': 'Europe',\n",
              " 'India': 'Asia',\n",
              " 'Indonesia': 'Asia',\n",
              " 'Iran': 'Asia',\n",
              " 'Iraq': 'Asia',\n",
              " 'Ireland': 'Europe',\n",
              " 'Israel': 'Asia',\n",
              " 'Italy': 'Europe',\n",
              " 'Jamaica': 'Americas',\n",
              " 'Japan': 'Asia',\n",
              " 'Jordan': 'Asia',\n",
              " 'Kenya': 'Africa',\n",
              " 'Korea, Dem. Rep.': 'Asia',\n",
              " 'Korea, Rep.': 'Asia',\n",
              " 'Kuwait': 'Asia',\n",
              " 'Lebanon': 'Asia',\n",
              " 'Lesotho': 'Africa',\n",
              " 'Liberia': 'Africa',\n",
              " 'Libya': 'Africa',\n",
              " 'Madagascar': 'Africa',\n",
              " 'Malawi': 'Africa',\n",
              " 'Malaysia': 'Asia',\n",
              " 'Mali': 'Africa',\n",
              " 'Mauritania': 'Africa',\n",
              " 'Mauritius': 'Africa',\n",
              " 'Mexico': 'Americas',\n",
              " 'Mongolia': 'Asia',\n",
              " 'Montenegro': 'Europe',\n",
              " 'Morocco': 'Africa',\n",
              " 'Mozambique': 'Africa',\n",
              " 'Myanmar': 'Asia',\n",
              " 'Namibia': 'Africa',\n",
              " 'Nepal': 'Asia',\n",
              " 'Netherlands': 'Europe',\n",
              " 'New Zealand': 'Oceania',\n",
              " 'Nicaragua': 'Americas',\n",
              " 'Niger': 'Africa',\n",
              " 'Nigeria': 'Africa',\n",
              " 'Norway': 'Europe',\n",
              " 'Oman': 'Asia',\n",
              " 'Pakistan': 'Asia',\n",
              " 'Panama': 'Americas',\n",
              " 'Paraguay': 'Americas',\n",
              " 'Peru': 'Americas',\n",
              " 'Philippines': 'Asia',\n",
              " 'Poland': 'Europe',\n",
              " 'Portugal': 'Europe',\n",
              " 'Puerto Rico': 'Americas',\n",
              " 'Reunion': 'Africa',\n",
              " 'Romania': 'Europe',\n",
              " 'Rwanda': 'Africa',\n",
              " 'Sao Tome and Principe': 'Africa',\n",
              " 'Saudi Arabia': 'Asia',\n",
              " 'Senegal': 'Africa',\n",
              " 'Serbia': 'Europe',\n",
              " 'Sierra Leone': 'Africa',\n",
              " 'Singapore': 'Asia',\n",
              " 'Slovak Republic': 'Europe',\n",
              " 'Slovenia': 'Europe',\n",
              " 'Somalia': 'Africa',\n",
              " 'South Africa': 'Africa',\n",
              " 'Spain': 'Europe',\n",
              " 'Sri Lanka': 'Asia',\n",
              " 'Sudan': 'Africa',\n",
              " 'Swaziland': 'Africa',\n",
              " 'Sweden': 'Europe',\n",
              " 'Switzerland': 'Europe',\n",
              " 'Syria': 'Asia',\n",
              " 'Taiwan': 'Asia',\n",
              " 'Tanzania': 'Africa',\n",
              " 'Thailand': 'Asia',\n",
              " 'Togo': 'Africa',\n",
              " 'Trinidad and Tobago': 'Americas',\n",
              " 'Tunisia': 'Africa',\n",
              " 'Turkey': 'Europe',\n",
              " 'Uganda': 'Africa',\n",
              " 'United Kingdom': 'Europe',\n",
              " 'United States': 'Americas',\n",
              " 'Uruguay': 'Americas',\n",
              " 'Venezuela': 'Americas',\n",
              " 'Vietnam': 'Asia',\n",
              " 'West Bank and Gaza': 'Asia',\n",
              " 'Yemen, Rep.': 'Asia',\n",
              " 'Zambia': 'Africa',\n",
              " 'Zimbabwe': 'Africa'}"
            ]
          },
          "metadata": {},
          "execution_count": 50
        }
      ]
    },
    {
      "cell_type": "markdown",
      "source": [
        "APIs"
      ],
      "metadata": {
        "id": "IkBqTwJgzKPm"
      }
    },
    {
      "cell_type": "code",
      "source": [
        "\n",
        "api_url = 'https://apis.datos.gob.ar/series/api/series?ids=tcrse_78ofi1&format=json'\n",
        "\n"
      ],
      "metadata": {
        "id": "POO2Xqbi2hwi"
      },
      "execution_count": null,
      "outputs": []
    },
    {
      "cell_type": "code",
      "source": [
        "import requests"
      ],
      "metadata": {
        "id": "gvh6t0Cc94Ts"
      },
      "execution_count": null,
      "outputs": []
    },
    {
      "cell_type": "code",
      "source": [
        "response = requests.get(api_url)"
      ],
      "metadata": {
        "id": "hNoa3IIN_XR1"
      },
      "execution_count": null,
      "outputs": []
    },
    {
      "cell_type": "code",
      "source": [
        "data = response.json()['data']\n",
        "\n",
        "date = [i for i,j in data]\n",
        "petroleo = [j for i,j in data]\n"
      ],
      "metadata": {
        "id": "_UpMbXRhxO1u"
      },
      "execution_count": null,
      "outputs": []
    },
    {
      "cell_type": "code",
      "source": [],
      "metadata": {
        "colab": {
          "base_uri": "https://localhost:8080/",
          "height": 321
        },
        "id": "h82aNWNa69KZ",
        "outputId": "7563f93f-292e-427d-9708-3364e671277d"
      },
      "execution_count": null,
      "outputs": [
        {
          "output_type": "error",
          "ename": "TypeError",
          "evalue": "ignored",
          "traceback": [
            "\u001b[0;31m---------------------------------------------------------------------------\u001b[0m",
            "\u001b[0;31mTypeError\u001b[0m                                 Traceback (most recent call last)",
            "\u001b[0;32m<ipython-input-68-b74e0eee6992>\u001b[0m in \u001b[0;36m<cell line: 1>\u001b[0;34m()\u001b[0m\n\u001b[0;32m----> 1\u001b[0;31m \u001b[0mpd\u001b[0m\u001b[0;34m.\u001b[0m\u001b[0mDataFrame\u001b[0m\u001b[0;34m(\u001b[0m\u001b[0mdata\u001b[0m\u001b[0;34m)\u001b[0m\u001b[0;34m.\u001b[0m\u001b[0mrename\u001b[0m\u001b[0;34m(\u001b[0m\u001b[0;34m[\u001b[0m\u001b[0;34m[\u001b[0m\u001b[0;34m'fecha'\u001b[0m\u001b[0;34m,\u001b[0m \u001b[0;34m'valor'\u001b[0m\u001b[0;34m]\u001b[0m\u001b[0;34m]\u001b[0m\u001b[0;34m)\u001b[0m\u001b[0;34m\u001b[0m\u001b[0;34m\u001b[0m\u001b[0m\n\u001b[0m",
            "\u001b[0;32m/usr/local/lib/python3.10/dist-packages/pandas/core/frame.py\u001b[0m in \u001b[0;36mrename\u001b[0;34m(self, mapper, index, columns, axis, copy, inplace, level, errors)\u001b[0m\n\u001b[1;32m   5571\u001b[0m         \u001b[0;36m4\u001b[0m  \u001b[0;36m3\u001b[0m  \u001b[0;36m6\u001b[0m\u001b[0;34m\u001b[0m\u001b[0;34m\u001b[0m\u001b[0m\n\u001b[1;32m   5572\u001b[0m         \"\"\"\n\u001b[0;32m-> 5573\u001b[0;31m         return super()._rename(\n\u001b[0m\u001b[1;32m   5574\u001b[0m             \u001b[0mmapper\u001b[0m\u001b[0;34m=\u001b[0m\u001b[0mmapper\u001b[0m\u001b[0;34m,\u001b[0m\u001b[0;34m\u001b[0m\u001b[0;34m\u001b[0m\u001b[0m\n\u001b[1;32m   5575\u001b[0m             \u001b[0mindex\u001b[0m\u001b[0;34m=\u001b[0m\u001b[0mindex\u001b[0m\u001b[0;34m,\u001b[0m\u001b[0;34m\u001b[0m\u001b[0;34m\u001b[0m\u001b[0m\n",
            "\u001b[0;32m/usr/local/lib/python3.10/dist-packages/pandas/core/generic.py\u001b[0m in \u001b[0;36m_rename\u001b[0;34m(self, mapper, index, columns, axis, copy, inplace, level, errors)\u001b[0m\n\u001b[1;32m   1102\u001b[0m                     \u001b[0;32mraise\u001b[0m \u001b[0mKeyError\u001b[0m\u001b[0;34m(\u001b[0m\u001b[0;34mf\"{missing_labels} not found in axis\"\u001b[0m\u001b[0;34m)\u001b[0m\u001b[0;34m\u001b[0m\u001b[0;34m\u001b[0m\u001b[0m\n\u001b[1;32m   1103\u001b[0m \u001b[0;34m\u001b[0m\u001b[0m\n\u001b[0;32m-> 1104\u001b[0;31m             \u001b[0mnew_index\u001b[0m \u001b[0;34m=\u001b[0m \u001b[0max\u001b[0m\u001b[0;34m.\u001b[0m\u001b[0m_transform_index\u001b[0m\u001b[0;34m(\u001b[0m\u001b[0mf\u001b[0m\u001b[0;34m,\u001b[0m \u001b[0mlevel\u001b[0m\u001b[0;34m=\u001b[0m\u001b[0mlevel\u001b[0m\u001b[0;34m)\u001b[0m\u001b[0;34m\u001b[0m\u001b[0;34m\u001b[0m\u001b[0m\n\u001b[0m\u001b[1;32m   1105\u001b[0m             \u001b[0mresult\u001b[0m\u001b[0;34m.\u001b[0m\u001b[0m_set_axis_nocheck\u001b[0m\u001b[0;34m(\u001b[0m\u001b[0mnew_index\u001b[0m\u001b[0;34m,\u001b[0m \u001b[0maxis\u001b[0m\u001b[0;34m=\u001b[0m\u001b[0maxis_no\u001b[0m\u001b[0;34m,\u001b[0m \u001b[0minplace\u001b[0m\u001b[0;34m=\u001b[0m\u001b[0;32mTrue\u001b[0m\u001b[0;34m,\u001b[0m \u001b[0mcopy\u001b[0m\u001b[0;34m=\u001b[0m\u001b[0;32mFalse\u001b[0m\u001b[0;34m)\u001b[0m\u001b[0;34m\u001b[0m\u001b[0;34m\u001b[0m\u001b[0m\n\u001b[1;32m   1106\u001b[0m             \u001b[0mresult\u001b[0m\u001b[0;34m.\u001b[0m\u001b[0m_clear_item_cache\u001b[0m\u001b[0;34m(\u001b[0m\u001b[0;34m)\u001b[0m\u001b[0;34m\u001b[0m\u001b[0;34m\u001b[0m\u001b[0m\n",
            "\u001b[0;32m/usr/local/lib/python3.10/dist-packages/pandas/core/indexes/base.py\u001b[0m in \u001b[0;36m_transform_index\u001b[0;34m(self, func, level)\u001b[0m\n\u001b[1;32m   6414\u001b[0m             \u001b[0;32mreturn\u001b[0m \u001b[0mtype\u001b[0m\u001b[0;34m(\u001b[0m\u001b[0mself\u001b[0m\u001b[0;34m)\u001b[0m\u001b[0;34m.\u001b[0m\u001b[0mfrom_tuples\u001b[0m\u001b[0;34m(\u001b[0m\u001b[0mitems\u001b[0m\u001b[0;34m,\u001b[0m \u001b[0mnames\u001b[0m\u001b[0;34m=\u001b[0m\u001b[0mself\u001b[0m\u001b[0;34m.\u001b[0m\u001b[0mnames\u001b[0m\u001b[0;34m)\u001b[0m\u001b[0;34m\u001b[0m\u001b[0;34m\u001b[0m\u001b[0m\n\u001b[1;32m   6415\u001b[0m         \u001b[0;32melse\u001b[0m\u001b[0;34m:\u001b[0m\u001b[0;34m\u001b[0m\u001b[0;34m\u001b[0m\u001b[0m\n\u001b[0;32m-> 6416\u001b[0;31m             \u001b[0mitems\u001b[0m \u001b[0;34m=\u001b[0m \u001b[0;34m[\u001b[0m\u001b[0mfunc\u001b[0m\u001b[0;34m(\u001b[0m\u001b[0mx\u001b[0m\u001b[0;34m)\u001b[0m \u001b[0;32mfor\u001b[0m \u001b[0mx\u001b[0m \u001b[0;32min\u001b[0m \u001b[0mself\u001b[0m\u001b[0;34m]\u001b[0m\u001b[0;34m\u001b[0m\u001b[0;34m\u001b[0m\u001b[0m\n\u001b[0m\u001b[1;32m   6417\u001b[0m             \u001b[0;32mreturn\u001b[0m \u001b[0mIndex\u001b[0m\u001b[0;34m(\u001b[0m\u001b[0mitems\u001b[0m\u001b[0;34m,\u001b[0m \u001b[0mname\u001b[0m\u001b[0;34m=\u001b[0m\u001b[0mself\u001b[0m\u001b[0;34m.\u001b[0m\u001b[0mname\u001b[0m\u001b[0;34m,\u001b[0m \u001b[0mtupleize_cols\u001b[0m\u001b[0;34m=\u001b[0m\u001b[0;32mFalse\u001b[0m\u001b[0;34m)\u001b[0m\u001b[0;34m\u001b[0m\u001b[0;34m\u001b[0m\u001b[0m\n\u001b[1;32m   6418\u001b[0m \u001b[0;34m\u001b[0m\u001b[0m\n",
            "\u001b[0;32m/usr/local/lib/python3.10/dist-packages/pandas/core/indexes/base.py\u001b[0m in \u001b[0;36m<listcomp>\u001b[0;34m(.0)\u001b[0m\n\u001b[1;32m   6414\u001b[0m             \u001b[0;32mreturn\u001b[0m \u001b[0mtype\u001b[0m\u001b[0;34m(\u001b[0m\u001b[0mself\u001b[0m\u001b[0;34m)\u001b[0m\u001b[0;34m.\u001b[0m\u001b[0mfrom_tuples\u001b[0m\u001b[0;34m(\u001b[0m\u001b[0mitems\u001b[0m\u001b[0;34m,\u001b[0m \u001b[0mnames\u001b[0m\u001b[0;34m=\u001b[0m\u001b[0mself\u001b[0m\u001b[0;34m.\u001b[0m\u001b[0mnames\u001b[0m\u001b[0;34m)\u001b[0m\u001b[0;34m\u001b[0m\u001b[0;34m\u001b[0m\u001b[0m\n\u001b[1;32m   6415\u001b[0m         \u001b[0;32melse\u001b[0m\u001b[0;34m:\u001b[0m\u001b[0;34m\u001b[0m\u001b[0;34m\u001b[0m\u001b[0m\n\u001b[0;32m-> 6416\u001b[0;31m             \u001b[0mitems\u001b[0m \u001b[0;34m=\u001b[0m \u001b[0;34m[\u001b[0m\u001b[0mfunc\u001b[0m\u001b[0;34m(\u001b[0m\u001b[0mx\u001b[0m\u001b[0;34m)\u001b[0m \u001b[0;32mfor\u001b[0m \u001b[0mx\u001b[0m \u001b[0;32min\u001b[0m \u001b[0mself\u001b[0m\u001b[0;34m]\u001b[0m\u001b[0;34m\u001b[0m\u001b[0;34m\u001b[0m\u001b[0m\n\u001b[0m\u001b[1;32m   6417\u001b[0m             \u001b[0;32mreturn\u001b[0m \u001b[0mIndex\u001b[0m\u001b[0;34m(\u001b[0m\u001b[0mitems\u001b[0m\u001b[0;34m,\u001b[0m \u001b[0mname\u001b[0m\u001b[0;34m=\u001b[0m\u001b[0mself\u001b[0m\u001b[0;34m.\u001b[0m\u001b[0mname\u001b[0m\u001b[0;34m,\u001b[0m \u001b[0mtupleize_cols\u001b[0m\u001b[0;34m=\u001b[0m\u001b[0;32mFalse\u001b[0m\u001b[0;34m)\u001b[0m\u001b[0;34m\u001b[0m\u001b[0;34m\u001b[0m\u001b[0m\n\u001b[1;32m   6418\u001b[0m \u001b[0;34m\u001b[0m\u001b[0m\n",
            "\u001b[0;31mTypeError\u001b[0m: 'list' object is not callable"
          ]
        }
      ]
    },
    {
      "cell_type": "code",
      "source": [
        "petroleo_df = pd.DataFrame({'date': date,\n",
        "              'value':petroleo})\n"
      ],
      "metadata": {
        "id": "kVzUcTw96yjX"
      },
      "execution_count": null,
      "outputs": []
    },
    {
      "cell_type": "code",
      "source": [
        "petroleo_df"
      ],
      "metadata": {
        "colab": {
          "base_uri": "https://localhost:8080/",
          "height": 424
        },
        "id": "DWSsdI1o7Ux2",
        "outputId": "41e2342c-8adc-4696-c99e-47d012d8eab6"
      },
      "execution_count": null,
      "outputs": [
        {
          "output_type": "execute_result",
          "data": {
            "text/plain": [
              "          date  value\n",
              "0   2010-01-01  161.5\n",
              "1   2010-02-01  155.6\n",
              "2   2010-03-01  153.0\n",
              "3   2010-04-01  152.8\n",
              "4   2010-05-01  150.1\n",
              "..         ...    ...\n",
              "95  2017-12-01  120.9\n",
              "96  2018-01-01  129.9\n",
              "97  2018-02-01  133.1\n",
              "98  2018-03-01  134.9\n",
              "99  2018-04-01  128.1\n",
              "\n",
              "[100 rows x 2 columns]"
            ],
            "text/html": [
              "\n",
              "  <div id=\"df-3391d464-5b2d-4cb6-b443-e2837e38d1d3\" class=\"colab-df-container\">\n",
              "    <div>\n",
              "<style scoped>\n",
              "    .dataframe tbody tr th:only-of-type {\n",
              "        vertical-align: middle;\n",
              "    }\n",
              "\n",
              "    .dataframe tbody tr th {\n",
              "        vertical-align: top;\n",
              "    }\n",
              "\n",
              "    .dataframe thead th {\n",
              "        text-align: right;\n",
              "    }\n",
              "</style>\n",
              "<table border=\"1\" class=\"dataframe\">\n",
              "  <thead>\n",
              "    <tr style=\"text-align: right;\">\n",
              "      <th></th>\n",
              "      <th>date</th>\n",
              "      <th>value</th>\n",
              "    </tr>\n",
              "  </thead>\n",
              "  <tbody>\n",
              "    <tr>\n",
              "      <th>0</th>\n",
              "      <td>2010-01-01</td>\n",
              "      <td>161.5</td>\n",
              "    </tr>\n",
              "    <tr>\n",
              "      <th>1</th>\n",
              "      <td>2010-02-01</td>\n",
              "      <td>155.6</td>\n",
              "    </tr>\n",
              "    <tr>\n",
              "      <th>2</th>\n",
              "      <td>2010-03-01</td>\n",
              "      <td>153.0</td>\n",
              "    </tr>\n",
              "    <tr>\n",
              "      <th>3</th>\n",
              "      <td>2010-04-01</td>\n",
              "      <td>152.8</td>\n",
              "    </tr>\n",
              "    <tr>\n",
              "      <th>4</th>\n",
              "      <td>2010-05-01</td>\n",
              "      <td>150.1</td>\n",
              "    </tr>\n",
              "    <tr>\n",
              "      <th>...</th>\n",
              "      <td>...</td>\n",
              "      <td>...</td>\n",
              "    </tr>\n",
              "    <tr>\n",
              "      <th>95</th>\n",
              "      <td>2017-12-01</td>\n",
              "      <td>120.9</td>\n",
              "    </tr>\n",
              "    <tr>\n",
              "      <th>96</th>\n",
              "      <td>2018-01-01</td>\n",
              "      <td>129.9</td>\n",
              "    </tr>\n",
              "    <tr>\n",
              "      <th>97</th>\n",
              "      <td>2018-02-01</td>\n",
              "      <td>133.1</td>\n",
              "    </tr>\n",
              "    <tr>\n",
              "      <th>98</th>\n",
              "      <td>2018-03-01</td>\n",
              "      <td>134.9</td>\n",
              "    </tr>\n",
              "    <tr>\n",
              "      <th>99</th>\n",
              "      <td>2018-04-01</td>\n",
              "      <td>128.1</td>\n",
              "    </tr>\n",
              "  </tbody>\n",
              "</table>\n",
              "<p>100 rows × 2 columns</p>\n",
              "</div>\n",
              "    <div class=\"colab-df-buttons\">\n",
              "\n",
              "  <div class=\"colab-df-container\">\n",
              "    <button class=\"colab-df-convert\" onclick=\"convertToInteractive('df-3391d464-5b2d-4cb6-b443-e2837e38d1d3')\"\n",
              "            title=\"Convert this dataframe to an interactive table.\"\n",
              "            style=\"display:none;\">\n",
              "\n",
              "  <svg xmlns=\"http://www.w3.org/2000/svg\" height=\"24px\" viewBox=\"0 -960 960 960\">\n",
              "    <path d=\"M120-120v-720h720v720H120Zm60-500h600v-160H180v160Zm220 220h160v-160H400v160Zm0 220h160v-160H400v160ZM180-400h160v-160H180v160Zm440 0h160v-160H620v160ZM180-180h160v-160H180v160Zm440 0h160v-160H620v160Z\"/>\n",
              "  </svg>\n",
              "    </button>\n",
              "\n",
              "  <style>\n",
              "    .colab-df-container {\n",
              "      display:flex;\n",
              "      gap: 12px;\n",
              "    }\n",
              "\n",
              "    .colab-df-convert {\n",
              "      background-color: #E8F0FE;\n",
              "      border: none;\n",
              "      border-radius: 50%;\n",
              "      cursor: pointer;\n",
              "      display: none;\n",
              "      fill: #1967D2;\n",
              "      height: 32px;\n",
              "      padding: 0 0 0 0;\n",
              "      width: 32px;\n",
              "    }\n",
              "\n",
              "    .colab-df-convert:hover {\n",
              "      background-color: #E2EBFA;\n",
              "      box-shadow: 0px 1px 2px rgba(60, 64, 67, 0.3), 0px 1px 3px 1px rgba(60, 64, 67, 0.15);\n",
              "      fill: #174EA6;\n",
              "    }\n",
              "\n",
              "    .colab-df-buttons div {\n",
              "      margin-bottom: 4px;\n",
              "    }\n",
              "\n",
              "    [theme=dark] .colab-df-convert {\n",
              "      background-color: #3B4455;\n",
              "      fill: #D2E3FC;\n",
              "    }\n",
              "\n",
              "    [theme=dark] .colab-df-convert:hover {\n",
              "      background-color: #434B5C;\n",
              "      box-shadow: 0px 1px 3px 1px rgba(0, 0, 0, 0.15);\n",
              "      filter: drop-shadow(0px 1px 2px rgba(0, 0, 0, 0.3));\n",
              "      fill: #FFFFFF;\n",
              "    }\n",
              "  </style>\n",
              "\n",
              "    <script>\n",
              "      const buttonEl =\n",
              "        document.querySelector('#df-3391d464-5b2d-4cb6-b443-e2837e38d1d3 button.colab-df-convert');\n",
              "      buttonEl.style.display =\n",
              "        google.colab.kernel.accessAllowed ? 'block' : 'none';\n",
              "\n",
              "      async function convertToInteractive(key) {\n",
              "        const element = document.querySelector('#df-3391d464-5b2d-4cb6-b443-e2837e38d1d3');\n",
              "        const dataTable =\n",
              "          await google.colab.kernel.invokeFunction('convertToInteractive',\n",
              "                                                    [key], {});\n",
              "        if (!dataTable) return;\n",
              "\n",
              "        const docLinkHtml = 'Like what you see? Visit the ' +\n",
              "          '<a target=\"_blank\" href=https://colab.research.google.com/notebooks/data_table.ipynb>data table notebook</a>'\n",
              "          + ' to learn more about interactive tables.';\n",
              "        element.innerHTML = '';\n",
              "        dataTable['output_type'] = 'display_data';\n",
              "        await google.colab.output.renderOutput(dataTable, element);\n",
              "        const docLink = document.createElement('div');\n",
              "        docLink.innerHTML = docLinkHtml;\n",
              "        element.appendChild(docLink);\n",
              "      }\n",
              "    </script>\n",
              "  </div>\n",
              "\n",
              "\n",
              "<div id=\"df-bbc545c9-fda1-4762-a638-e196f85a686a\">\n",
              "  <button class=\"colab-df-quickchart\" onclick=\"quickchart('df-bbc545c9-fda1-4762-a638-e196f85a686a')\"\n",
              "            title=\"Suggest charts.\"\n",
              "            style=\"display:none;\">\n",
              "\n",
              "<svg xmlns=\"http://www.w3.org/2000/svg\" height=\"24px\"viewBox=\"0 0 24 24\"\n",
              "     width=\"24px\">\n",
              "    <g>\n",
              "        <path d=\"M19 3H5c-1.1 0-2 .9-2 2v14c0 1.1.9 2 2 2h14c1.1 0 2-.9 2-2V5c0-1.1-.9-2-2-2zM9 17H7v-7h2v7zm4 0h-2V7h2v10zm4 0h-2v-4h2v4z\"/>\n",
              "    </g>\n",
              "</svg>\n",
              "  </button>\n",
              "\n",
              "<style>\n",
              "  .colab-df-quickchart {\n",
              "      --bg-color: #E8F0FE;\n",
              "      --fill-color: #1967D2;\n",
              "      --hover-bg-color: #E2EBFA;\n",
              "      --hover-fill-color: #174EA6;\n",
              "      --disabled-fill-color: #AAA;\n",
              "      --disabled-bg-color: #DDD;\n",
              "  }\n",
              "\n",
              "  [theme=dark] .colab-df-quickchart {\n",
              "      --bg-color: #3B4455;\n",
              "      --fill-color: #D2E3FC;\n",
              "      --hover-bg-color: #434B5C;\n",
              "      --hover-fill-color: #FFFFFF;\n",
              "      --disabled-bg-color: #3B4455;\n",
              "      --disabled-fill-color: #666;\n",
              "  }\n",
              "\n",
              "  .colab-df-quickchart {\n",
              "    background-color: var(--bg-color);\n",
              "    border: none;\n",
              "    border-radius: 50%;\n",
              "    cursor: pointer;\n",
              "    display: none;\n",
              "    fill: var(--fill-color);\n",
              "    height: 32px;\n",
              "    padding: 0;\n",
              "    width: 32px;\n",
              "  }\n",
              "\n",
              "  .colab-df-quickchart:hover {\n",
              "    background-color: var(--hover-bg-color);\n",
              "    box-shadow: 0 1px 2px rgba(60, 64, 67, 0.3), 0 1px 3px 1px rgba(60, 64, 67, 0.15);\n",
              "    fill: var(--button-hover-fill-color);\n",
              "  }\n",
              "\n",
              "  .colab-df-quickchart-complete:disabled,\n",
              "  .colab-df-quickchart-complete:disabled:hover {\n",
              "    background-color: var(--disabled-bg-color);\n",
              "    fill: var(--disabled-fill-color);\n",
              "    box-shadow: none;\n",
              "  }\n",
              "\n",
              "  .colab-df-spinner {\n",
              "    border: 2px solid var(--fill-color);\n",
              "    border-color: transparent;\n",
              "    border-bottom-color: var(--fill-color);\n",
              "    animation:\n",
              "      spin 1s steps(1) infinite;\n",
              "  }\n",
              "\n",
              "  @keyframes spin {\n",
              "    0% {\n",
              "      border-color: transparent;\n",
              "      border-bottom-color: var(--fill-color);\n",
              "      border-left-color: var(--fill-color);\n",
              "    }\n",
              "    20% {\n",
              "      border-color: transparent;\n",
              "      border-left-color: var(--fill-color);\n",
              "      border-top-color: var(--fill-color);\n",
              "    }\n",
              "    30% {\n",
              "      border-color: transparent;\n",
              "      border-left-color: var(--fill-color);\n",
              "      border-top-color: var(--fill-color);\n",
              "      border-right-color: var(--fill-color);\n",
              "    }\n",
              "    40% {\n",
              "      border-color: transparent;\n",
              "      border-right-color: var(--fill-color);\n",
              "      border-top-color: var(--fill-color);\n",
              "    }\n",
              "    60% {\n",
              "      border-color: transparent;\n",
              "      border-right-color: var(--fill-color);\n",
              "    }\n",
              "    80% {\n",
              "      border-color: transparent;\n",
              "      border-right-color: var(--fill-color);\n",
              "      border-bottom-color: var(--fill-color);\n",
              "    }\n",
              "    90% {\n",
              "      border-color: transparent;\n",
              "      border-bottom-color: var(--fill-color);\n",
              "    }\n",
              "  }\n",
              "</style>\n",
              "\n",
              "  <script>\n",
              "    async function quickchart(key) {\n",
              "      const quickchartButtonEl =\n",
              "        document.querySelector('#' + key + ' button');\n",
              "      quickchartButtonEl.disabled = true;  // To prevent multiple clicks.\n",
              "      quickchartButtonEl.classList.add('colab-df-spinner');\n",
              "      try {\n",
              "        const charts = await google.colab.kernel.invokeFunction(\n",
              "            'suggestCharts', [key], {});\n",
              "      } catch (error) {\n",
              "        console.error('Error during call to suggestCharts:', error);\n",
              "      }\n",
              "      quickchartButtonEl.classList.remove('colab-df-spinner');\n",
              "      quickchartButtonEl.classList.add('colab-df-quickchart-complete');\n",
              "    }\n",
              "    (() => {\n",
              "      let quickchartButtonEl =\n",
              "        document.querySelector('#df-bbc545c9-fda1-4762-a638-e196f85a686a button');\n",
              "      quickchartButtonEl.style.display =\n",
              "        google.colab.kernel.accessAllowed ? 'block' : 'none';\n",
              "    })();\n",
              "  </script>\n",
              "</div>\n",
              "    </div>\n",
              "  </div>\n"
            ]
          },
          "metadata": {},
          "execution_count": 71
        }
      ]
    },
    {
      "cell_type": "code",
      "source": [
        "import os\n",
        "\n",
        "# montar Google Drive\n",
        "from google.colab import drive\n",
        "drive.mount('/content/drive')"
      ],
      "metadata": {
        "id": "NZKs6zkD0Dk4",
        "colab": {
          "base_uri": "https://localhost:8080/"
        },
        "outputId": "b657d31b-479b-4d1f-f3ad-79f3a1b24351"
      },
      "execution_count": null,
      "outputs": [
        {
          "output_type": "stream",
          "name": "stdout",
          "text": [
            "Mounted at /content/drive\n"
          ]
        }
      ]
    },
    {
      "cell_type": "code",
      "source": [
        "# Cremos un directorio dentro del root directory\n",
        "!mkdir -p \"/content/drive/MyDrive/gob_abierto_api2\""
      ],
      "metadata": {
        "id": "Zj1jU1VX0SIa"
      },
      "execution_count": null,
      "outputs": []
    },
    {
      "cell_type": "code",
      "source": [
        "os.listdir(\"/content/drive/MyDrive/gob_abierto_api2\")"
      ],
      "metadata": {
        "id": "wv4QYvL3x48M",
        "colab": {
          "base_uri": "https://localhost:8080/"
        },
        "outputId": "bd040dd4-a2f1-43c8-a5e3-bf83306e8897"
      },
      "execution_count": null,
      "outputs": [
        {
          "output_type": "execute_result",
          "data": {
            "text/plain": [
              "['petroleo_df.csv']"
            ]
          },
          "metadata": {},
          "execution_count": 76
        }
      ]
    },
    {
      "cell_type": "code",
      "source": [
        "petroleo_df.to_csv(\"/content/drive/MyDrive/gob_abierto_api2/petroleo_df.csv\")"
      ],
      "metadata": {
        "id": "o999K2Rax8Pi"
      },
      "execution_count": null,
      "outputs": []
    },
    {
      "cell_type": "code",
      "source": [
        "\n"
      ],
      "metadata": {
        "id": "mN9zPCRG1xHg"
      },
      "execution_count": null,
      "outputs": []
    },
    {
      "cell_type": "code",
      "source": [],
      "metadata": {
        "id": "6Bojq2kC3N5H"
      },
      "execution_count": null,
      "outputs": []
    }
  ]
}